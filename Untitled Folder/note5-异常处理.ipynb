{
 "cells": [
  {
   "cell_type": "code",
   "execution_count": 1,
   "metadata": {},
   "outputs": [
    {
     "name": "stdout",
     "output_type": "stream",
     "text": [
      "请输入一个数字：2\n",
      "计算的结构是：50.0\n"
     ]
    }
   ],
   "source": [
    "#简单异常案例\n",
    "#所有的异常都是从一个error类中继承下来的\n",
    "try:\n",
    "    num = int(input('请输入一个数字：'))\n",
    "    div = 100/num\n",
    "    print('计算的结构是：{0}'.format(div))\n",
    "    \n",
    "except:\n",
    "    print('出错了哦，要认真写')\n",
    "    \n",
    "    exit() #退出命令\n",
    "    "
   ]
  },
  {
   "cell_type": "code",
   "execution_count": 2,
   "metadata": {},
   "outputs": [
    {
     "name": "stdout",
     "output_type": "stream",
     "text": [
      "请输入一个数字：0\n",
      "出错了哦，要认真写\n",
      "division by zero\n"
     ]
    }
   ],
   "source": [
    "#简单异常案例\n",
    "\n",
    "#给出简单的提示\n",
    "try:\n",
    "    num = int(input('请输入一个数字：'))\n",
    "    div = 100/num\n",
    "    print('计算的结构是：{0}'.format(div))\n",
    "\n",
    "\n",
    "#捕捉一个异常后，把异常实例化，出现信息会在实例化中\n",
    "\n",
    "#注意下面写法\n",
    "\n",
    "#以下语句是捕获一个异常并且实例化了\n",
    "except ZeroDivisionError as e:\n",
    "    print('出错了哦，要认真写')\n",
    "    print(e)\n",
    "    \n",
    "    exit() #退出命令\n",
    "    "
   ]
  },
  {
   "cell_type": "code",
   "execution_count": 1,
   "metadata": {},
   "outputs": [
    {
     "name": "stdout",
     "output_type": "stream",
     "text": [
      "请输入一个数字：0\n",
      "出错了哦，要认真写\n",
      "division by zero\n"
     ]
    }
   ],
   "source": [
    "#简单异常案例\n",
    "\n",
    "#给出简单的提示\n",
    "try:\n",
    "    num = int(input('请输入一个数字：'))\n",
    "    div = 100/num\n",
    "    print('计算的结构是：{0}'.format(div))\n",
    "\n",
    "\n",
    "#捕捉一个异常后，把异常实例化，出现信息会在实例化中\n",
    "\n",
    "#注意下面写法\n",
    "\n",
    "#以下语句是捕获一个异常并且实例化了,即可以输入呢\n",
    "except ZeroDivisionError as e:\n",
    "    print('出错了哦，要认真写')\n",
    "    print(e)\n",
    "    \n",
    "    exit() #退出命令\n",
    "    \n",
    "except NameError as e:\n",
    "    print('名字起错了')\n",
    "    print(e)\n",
    "    \n",
    "    exit()\n",
    "    \n",
    "except AttritubeError as e:\n",
    "    print('属性有问题了')\n",
    "    print(e)\n",
    "    exit()\n",
    "    \n",
    "except Excepr as e:\n",
    "    print('我也不知道哪里错了')\n",
    "    print(e)\n",
    "    exit()"
   ]
  },
  {
   "cell_type": "code",
   "execution_count": null,
   "metadata": {},
   "outputs": [],
   "source": []
  }
 ],
 "metadata": {
  "kernelspec": {
   "display_name": "Python 3",
   "language": "python",
   "name": "python3"
  },
  "language_info": {
   "codemirror_mode": {
    "name": "ipython",
    "version": 3
   },
   "file_extension": ".py",
   "mimetype": "text/x-python",
   "name": "python",
   "nbconvert_exporter": "python",
   "pygments_lexer": "ipython3",
   "version": "3.6.5"
  }
 },
 "nbformat": 4,
 "nbformat_minor": 2
}
