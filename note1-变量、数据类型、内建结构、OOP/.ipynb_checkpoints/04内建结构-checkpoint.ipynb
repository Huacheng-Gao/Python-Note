{
 "cells": [
  {
   "cell_type": "markdown",
   "metadata": {},
   "source": [
    "# 元组-tuple\n",
    "    - 元组可以看成是一个不可更改的list\n",
    "    \n",
    "    \n",
    "## 元组创建"
   ]
  },
  {
   "cell_type": "code",
   "execution_count": 7,
   "metadata": {},
   "outputs": [
    {
     "name": "stdout",
     "output_type": "stream",
     "text": [
      "<class 'tuple'>\n",
      "<class 'tuple'>\n",
      "(1,)\n",
      "<class 'tuple'>\n",
      "(1, 2, 3, 5, 6)\n",
      "<class 'tuple'>\n",
      "(1, 2, 3, 4, 5)\n",
      "<class 'tuple'>\n",
      "[1, 2, 3, 4]\n",
      "(1, 2, 3, 4)\n"
     ]
    }
   ],
   "source": [
    "a = ()\n",
    "print(type(a))\n",
    "\n",
    "a = (1,)\n",
    "print(type(a))\n",
    "print(a)\n",
    "\n",
    "a = (1,2,3,5,6)\n",
    "print(type(a))\n",
    "print(a)\n",
    "\n",
    "a = 1, 2 ,3, 4,5\n",
    "print(type(a))\n",
    "print(a)\n",
    "\n",
    "l = [1, 2,3,4]\n",
    "a = tuple(l)\n",
    "print(type(a))\n",
    "print(l)\n",
    "print(a)"
   ]
  },
  {
   "cell_type": "markdown",
   "metadata": {},
   "source": [
    "# 元组的特性\n",
    "- 是有序表，有序的\n",
    "- 元组数据值可以访问，但是不能修改。。。。。不能改（指的是内容）\n",
    "- 元组的数据可以是  任意类型\n",
    "- list的所有特性元组都具有，除了可修改\n",
    "- 可以对元组进行list的一些操作"
   ]
  },
  {
   "cell_type": "code",
   "execution_count": null,
   "metadata": {},
   "outputs": [],
   "source": []
  },
  {
   "cell_type": "code",
   "execution_count": 8,
   "metadata": {},
   "outputs": [
    {
     "name": "stdout",
     "output_type": "stream",
     "text": [
      "4\n"
     ]
    }
   ],
   "source": [
    "a =  1,2,3,4,5,6\n",
    "print(a[3])"
   ]
  },
  {
   "cell_type": "code",
   "execution_count": 9,
   "metadata": {},
   "outputs": [
    {
     "ename": "IndexError",
     "evalue": "tuple index out of range",
     "output_type": "error",
     "traceback": [
      "\u001b[1;31m---------------------------------------------------------------------------\u001b[0m",
      "\u001b[1;31mIndexError\u001b[0m                                Traceback (most recent call last)",
      "\u001b[1;32m<ipython-input-9-879ee30d6c43>\u001b[0m in \u001b[0;36m<module>\u001b[1;34m()\u001b[0m\n\u001b[0;32m      1\u001b[0m \u001b[1;31m# 超标错误\u001b[0m\u001b[1;33m\u001b[0m\u001b[1;33m\u001b[0m\u001b[0m\n\u001b[1;32m----> 2\u001b[1;33m \u001b[0mprint\u001b[0m\u001b[1;33m(\u001b[0m\u001b[0ma\u001b[0m\u001b[1;33m[\u001b[0m\u001b[1;36m10\u001b[0m\u001b[1;33m]\u001b[0m\u001b[1;33m)\u001b[0m\u001b[1;33m\u001b[0m\u001b[0m\n\u001b[0m",
      "\u001b[1;31mIndexError\u001b[0m: tuple index out of range"
     ]
    }
   ],
   "source": [
    "# 超标错误\n",
    "print(a[10])"
   ]
  },
  {
   "cell_type": "code",
   "execution_count": 13,
   "metadata": {},
   "outputs": [
    {
     "name": "stdout",
     "output_type": "stream",
     "text": [
      "(3, 4, 5, 6)\n"
     ]
    }
   ],
   "source": [
    "# 切片超标可以的，不报错\n",
    "\n",
    "b = (1,2,3,4,5,6)\n",
    "b1 = b[2:100]\n",
    "print(b1)"
   ]
  },
  {
   "cell_type": "code",
   "execution_count": 15,
   "metadata": {},
   "outputs": [
    {
     "name": "stdout",
     "output_type": "stream",
     "text": [
      "(1, 2, 3)\n",
      "1715464248272\n",
      "(1, 2, 3, 4, 5, 6)\n",
      "1715465286856\n",
      "(4, 5, 6, 4, 5, 6, 4, 5, 6)\n"
     ]
    }
   ],
   "source": [
    "t1 = (1,2,3)\n",
    "t2 = (4,5,6)\n",
    "\n",
    "\n",
    "print(t1)\n",
    "print(id(t1))\n",
    "# 这里改变的是位置了，并不是修改了t1中的内容\n",
    "\n",
    "t1 = t1 + t2\n",
    "print(t1)\n",
    "print(id(t1))\n",
    "\n",
    "t2 = t2 *3\n",
    "print(t2)"
   ]
  },
  {
   "cell_type": "markdown",
   "metadata": {},
   "source": [
    "# 元组的函数(基本上和list通用)\n",
    "- len,获取元组的长度\n",
    "- max，min 找最大最小值\n",
    "- count 计算制定数据出现的次数\n",
    "- index 求指定元素在元组中的位置"
   ]
  },
  {
   "cell_type": "code",
   "execution_count": 1,
   "metadata": {},
   "outputs": [
    {
     "name": "stdout",
     "output_type": "stream",
     "text": [
      "(1, 2, 3, 5, 6, 5, 5)\n",
      "()\n"
     ]
    }
   ],
   "source": [
    "l = [1,2,3,5,6,5,5]\n",
    "t = tuple(l)\n",
    "print(t)\n",
    "\n",
    "t = tuple()\n",
    "print(t)"
   ]
  },
  {
   "cell_type": "markdown",
   "metadata": {},
   "source": [
    "# 集合-set,用大括号\n",
    "## {1,2}\n",
    "- 集合时无序的、不重复的数据集合体，数据要求是可哈希的\n",
    "- 如果集合中有重复的数据，则会默认删除重复的\n",
    "- 集合分为\n",
    "    - 可变集合set\n",
    "    - 不可变集合frozenset,不可修改"
   ]
  },
  {
   "cell_type": "code",
   "execution_count": 4,
   "metadata": {},
   "outputs": [
    {
     "name": "stdout",
     "output_type": "stream",
     "text": [
      "4 --- 5 ---- 6\n",
      "i --- love ---- gaohuac\n",
      "1 --- 2 ---- 3\n",
      "(4, 5, 6)\n",
      "('i', 'love', 'gaohuac')\n",
      "(1, 2, 3)\n"
     ]
    }
   ],
   "source": [
    "s = {(1,2,3),('i','love','gaohuac'),(4,5,6)}\n",
    "\n",
    "for k,m,n in s:\n",
    "    print(k,'---',m,'----',n)\n",
    "    \n",
    "for k in s:\n",
    "    print(k)"
   ]
  },
  {
   "cell_type": "code",
   "execution_count": 6,
   "metadata": {},
   "outputs": [
    {
     "name": "stdout",
     "output_type": "stream",
     "text": [
      "{2, 3, 4, 46, 565, 23}\n",
      "{2, 3, 4, 46, 565, 23}\n",
      "{2, 4, 46}\n"
     ]
    }
   ],
   "source": [
    "s = {23,46,2,3,565,4}\n",
    "print(s)\n",
    "\n",
    "ss = {i for i in s}\n",
    "print(ss)\n",
    "\n",
    "sss = {i for i in s if i %2==0 }\n",
    "print(sss)"
   ]
  },
  {
   "cell_type": "markdown",
   "metadata": {},
   "source": [
    "# pop 随机移除一个元素\n",
    "\n",
    "# 集合中的交叉并补，类似于数学中的定义\n",
    "    - intersection交集\n",
    "    - difference 差集\n",
    "    - union 并集\n",
    "    - issubset 检查一个集合是否是另一个的子集\n",
    "    - issupset 检查一个集合是否是另一个的超集\n",
    "# frozenset 冰冻集是不可以进行任何修改的\n",
    "    - frozenset是一种特殊的集合\n"
   ]
  },
  {
   "cell_type": "markdown",
   "metadata": {},
   "source": [
    "# dict 字典\n",
    "    - 字典是一种组合数据，没有顺序的组合数据，数据以键：值形式出现\n",
    "# 字典的特征\n",
    "    - 字典是序列类型，但是是无序序列，所以没有分片和索引\n",
    "    - 字典中的数据每个都有键值对应，即kv对\n",
    "        - key:必须是可哈希的值，比如int、string、tuple、但是list、set、dict不行\n",
    "        - value：任何值\n",
    "        \n",
    "# 通用函数\n",
    "\n",
    "# fromkeys使用指定的序列作为键，使用一个值作为所有键的值"
   ]
  },
  {
   "cell_type": "code",
   "execution_count": 10,
   "metadata": {},
   "outputs": [
    {
     "name": "stdout",
     "output_type": "stream",
     "text": [
      "{}\n",
      "{}\n",
      "{'one': 1, 'two': 2, 'three': 3}\n",
      "{'one': 1, 'two': 2, 'three': 3}\n",
      "key\n",
      "one 1\n",
      "two 2\n",
      "three 3\n",
      "1\n",
      "2\n",
      "3\n",
      "one - - 1\n",
      "two - - 2\n",
      "three - - 3\n",
      "{'one': 1, 'two': 2, 'three': 3}\n",
      "{'two': 2}\n"
     ]
    }
   ],
   "source": [
    "#创建空字典1\n",
    "d = {}\n",
    "print(d)\n",
    "\n",
    "#空字典2\n",
    "d = dict()\n",
    "print(d)\n",
    "\n",
    "# 键：值\n",
    "d = {'one':1,'two':2,'three':3}\n",
    "print(d)\n",
    "\n",
    "d = dict({'one':1,'two':2,'three':3})\n",
    "print(d)\n",
    "\n",
    "if 2 in d:\n",
    "    print('value')\n",
    "\n",
    "if 'two' in d:\n",
    "    print('key')\n",
    "    \n",
    "if ('two',2) in d:\n",
    "    print('kv')\n",
    "    \n",
    "#分别访问键和值\n",
    "\n",
    "for k in d.keys():\n",
    "    print(k,d[k])\n",
    "    \n",
    "for v in d.values():\n",
    "    print(v)\n",
    "    \n",
    "for k,v in d.items():\n",
    "    print(k,'- -',v)\n",
    "    \n",
    "dd = {k:v for k,v in d.items()}\n",
    "print(dd)\n",
    "\n",
    "ddd = {k:v for k,v in d.items() if v%2==0}\n",
    "print(ddd)"
   ]
  },
  {
   "cell_type": "markdown",
   "metadata": {},
   "source": []
  },
  {
   "cell_type": "code",
   "execution_count": null,
   "metadata": {},
   "outputs": [],
   "source": []
  },
  {
   "cell_type": "code",
   "execution_count": null,
   "metadata": {},
   "outputs": [],
   "source": []
  }
 ],
 "metadata": {
  "kernelspec": {
   "display_name": "Python 3",
   "language": "python",
   "name": "python3"
  },
  "language_info": {
   "codemirror_mode": {
    "name": "ipython",
    "version": 3
   },
   "file_extension": ".py",
   "mimetype": "text/x-python",
   "name": "python",
   "nbconvert_exporter": "python",
   "pygments_lexer": "ipython3",
   "version": "3.6.5"
  }
 },
 "nbformat": 4,
 "nbformat_minor": 2
}
