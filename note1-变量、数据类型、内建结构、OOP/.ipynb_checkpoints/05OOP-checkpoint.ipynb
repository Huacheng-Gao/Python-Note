{
 "cells": [
  {
   "cell_type": "code",
   "execution_count": 6,
   "metadata": {},
   "outputs": [
    {
     "name": "stdout",
     "output_type": "stream",
     "text": [
      "noname\n",
      "noname\n"
     ]
    }
   ],
   "source": [
    "class Person():\n",
    "    name = 'noname'\n",
    "    age = 0\n",
    "    def sleep(self):\n",
    "        print(\"sleeping.....\")\n",
    "class Teacher(Person):  #父类写在括号内\n",
    "    def make_test(self):\n",
    "        pass\n",
    "t = Teacher()\n",
    "print(t.name)\n",
    "print(Teacher.name)"
   ]
  },
  {
   "cell_type": "code",
   "execution_count": 14,
   "metadata": {},
   "outputs": [
    {
     "name": "stdout",
     "output_type": "stream",
     "text": [
      "noname\n",
      "secret\n",
      "sleeping.....\n",
      "9527\n",
      "noname\n"
     ]
    }
   ],
   "source": [
    "class Person():\n",
    "    name = 'noname'\n",
    "    age = 18\n",
    "    __score = 0  #考试是秘密，只有自己知道\n",
    "    _petname = 'secret'  #小名受保护的，子类可以用，但不能公用\n",
    "    def sleep(self):\n",
    "        print(\"sleeping.....\")\n",
    "\n",
    "class Teacher(Person):  #父类写在括号内\n",
    "    teacher_id = '9527'\n",
    "    def make_test(self):\n",
    "        pass\n",
    "\n",
    "    \n",
    "t = Teacher()\n",
    "print(t.name)\n",
    "\n",
    "print(t._petname)\n",
    "\n",
    "#访问私有变量score,会报错\n",
    "#print(t.__score)\n",
    "\n",
    "t.sleep()\n",
    "\n",
    "print(t.teacher_id)\n",
    "\n",
    "print(Teacher.name)"
   ]
  },
  {
   "cell_type": "code",
   "execution_count": 15,
   "metadata": {},
   "outputs": [
    {
     "name": "stdout",
     "output_type": "stream",
     "text": [
      "dana\n"
     ]
    }
   ],
   "source": [
    "\n",
    "# 子类中定义的成员和父类成员如果相同，则优先使用子类成员\n",
    "class Person():\n",
    "    name = 'noname'\n",
    "    age = 18\n",
    "    __score = 0  #考试是秘密，只有自己知道\n",
    "    _petname = 'secret'  #小名受保护的，子类可以用，但不能公用\n",
    "    def sleep(self):\n",
    "        print(\"sleeping.....\")\n",
    "\n",
    "class Teacher(Person):  #父类写在括号内\n",
    "    teacher_id = '9527'\n",
    "    name = 'dana'\n",
    "    def make_test(self):\n",
    "        print('attention')\n",
    "        \n",
    "t = Teacher\n",
    "\n",
    "print(t.name)"
   ]
  },
  {
   "cell_type": "code",
   "execution_count": 25,
   "metadata": {},
   "outputs": [
    {
     "name": "stdout",
     "output_type": "stream",
     "text": [
      "make some money\n",
      "make some money\n",
      "attention\n"
     ]
    }
   ],
   "source": [
    "#子类扩充父类功能  案列\n",
    "#人有工作，老师也有工作，老师的工作是讲课，老师的讲课是在人的工作基础上扩充的\n",
    "\n",
    "class Person():\n",
    "    name = 'noname'\n",
    "    age = 18\n",
    "    __score = 0  #考试是秘密，只有自己知道\n",
    "    _petname = 'secret'  #小名受保护的，子类可以用，但不能公用\n",
    "    def sleep(self):\n",
    "        print(\"sleeping.....\")\n",
    "    def work(self):\n",
    "        print('make some money')\n",
    "\n",
    "\n",
    "class Teacher(Person):  #父类写在括号内\n",
    "    teacher_id = '9527'\n",
    "    name = 'dana'\n",
    "    def make_test(self):\n",
    "        print('attention')\n",
    "    def work(self):\n",
    "        Person.work(self)   #扩充父类的功能只需要调用父类相应的函数\n",
    "        \n",
    "                          #扩充父类的另一种方法\n",
    "        super().work()    #super代表得到父类\n",
    "        \n",
    "        self.make_test()      \n",
    "        \n",
    "t = Teacher()\n",
    "t.work()"
   ]
  },
  {
   "cell_type": "code",
   "execution_count": 2,
   "metadata": {},
   "outputs": [
    {
     "name": "stdout",
     "output_type": "stream",
     "text": [
      "i am a dog\n"
     ]
    }
   ],
   "source": [
    "#构造函数的概念\n",
    "\n",
    "class Dog():\n",
    "    #——init——就是构造函数\n",
    "    #每次示例话的时候，第一个被自动调用\n",
    "    #主要工作是初始化\n",
    "    def __init__(self):      #两个下划线\n",
    "        print('i am a dog')\n",
    "        \n",
    "        \n",
    "jingmao = Dog()"
   ]
  },
  {
   "cell_type": "code",
   "execution_count": 5,
   "metadata": {},
   "outputs": [
    {
     "name": "stdout",
     "output_type": "stream",
     "text": [
      "狗是爬行动物\n",
      "爬行动物\n"
     ]
    }
   ],
   "source": [
    "class Animal():\n",
    "    pass\n",
    "\n",
    "class Paxingdongwu(Animal):\n",
    "    def __init__(self):\n",
    "        print('爬行动物')\n",
    "        \n",
    "class Dog(Paxingdongwu):\n",
    "    print('狗是爬行动物')\n",
    "    \n",
    "\n",
    "#实例化的时候没有找到本类里面的构造函数，所以找了父类的构造函数\n",
    "jingmao = Dog()"
   ]
  },
  {
   "cell_type": "code",
   "execution_count": 7,
   "metadata": {},
   "outputs": [
    {
     "name": "stdout",
     "output_type": "stream",
     "text": [
      "狗是爬行动物\n",
      "爬行动物\n"
     ]
    }
   ],
   "source": [
    "class Animal():\n",
    "    pass\n",
    "\n",
    "class Paxingdongwu(Animal):\n",
    "    def __init__(self):\n",
    "        print('爬行动物')\n",
    "        \n",
    "class Dog(Paxingdongwu):\n",
    "    def __init__(self):\n",
    "        print('狗是爬行动物')\n",
    "        \n",
    "#本类中有构造函数，所以没有找父类的\n",
    "jingmao = Dog()\n",
    "    \n",
    "    \n",
    "class Cat(Paxingdongwu):\n",
    "    pass\n",
    "\n",
    "c = Cat()"
   ]
  },
  {
   "cell_type": "code",
   "execution_count": 8,
   "metadata": {},
   "outputs": [
    {
     "name": "stdout",
     "output_type": "stream",
     "text": [
      "动物\n",
      "动物\n"
     ]
    }
   ],
   "source": [
    "\n",
    "\n",
    "\n",
    "class Animal():\n",
    "    def __init__(self):\n",
    "        print('动物')\n",
    "\n",
    "class Paxingdongwu(Animal):\n",
    "    pass\n",
    "        \n",
    "class Dog(Paxingdongwu):\n",
    "    pass\n",
    "#本类中有构造函数，所以没有找父类的\n",
    "jingmao = Dog()\n",
    "    \n",
    "    \n",
    "class Cat(Paxingdongwu):\n",
    "    pass\n",
    "\n",
    "c = Cat()"
   ]
  },
  {
   "cell_type": "code",
   "execution_count": 10,
   "metadata": {},
   "outputs": [
    {
     "name": "stdout",
     "output_type": "stream",
     "text": [
      "<class 'type'>\n",
      "Help on class super in module builtins:\n",
      "\n",
      "class super(object)\n",
      " |  super() -> same as super(__class__, <first argument>)\n",
      " |  super(type) -> unbound super object\n",
      " |  super(type, obj) -> bound super object; requires isinstance(obj, type)\n",
      " |  super(type, type2) -> bound super object; requires issubclass(type2, type)\n",
      " |  Typical use to call a cooperative superclass method:\n",
      " |  class C(B):\n",
      " |      def meth(self, arg):\n",
      " |          super().meth(arg)\n",
      " |  This works for class methods too:\n",
      " |  class C(B):\n",
      " |      @classmethod\n",
      " |      def cmeth(cls, arg):\n",
      " |          super().cmeth(arg)\n",
      " |  \n",
      " |  Methods defined here:\n",
      " |  \n",
      " |  __get__(self, instance, owner, /)\n",
      " |      Return an attribute of instance, which is of type owner.\n",
      " |  \n",
      " |  __getattribute__(self, name, /)\n",
      " |      Return getattr(self, name).\n",
      " |  \n",
      " |  __init__(self, /, *args, **kwargs)\n",
      " |      Initialize self.  See help(type(self)) for accurate signature.\n",
      " |  \n",
      " |  __new__(*args, **kwargs) from builtins.type\n",
      " |      Create and return a new object.  See help(type) for accurate signature.\n",
      " |  \n",
      " |  __repr__(self, /)\n",
      " |      Return repr(self).\n",
      " |  \n",
      " |  ----------------------------------------------------------------------\n",
      " |  Data descriptors defined here:\n",
      " |  \n",
      " |  __self__\n",
      " |      the instance invoking super(); may be None\n",
      " |  \n",
      " |  __self_class__\n",
      " |      the type of the instance invoking super(); may be None\n",
      " |  \n",
      " |  __thisclass__\n",
      " |      the class invoking super()\n",
      "\n"
     ]
    }
   ],
   "source": [
    "print(type(super))\n",
    "\n",
    "help(super)"
   ]
  },
  {
   "cell_type": "code",
   "execution_count": 19,
   "metadata": {},
   "outputs": [
    {
     "name": "stdout",
     "output_type": "stream",
     "text": [
      "我会飞\n",
      "我会游泳\n",
      "工作\n"
     ]
    }
   ],
   "source": [
    "##多继承的列子\n",
    "\n",
    "##子类可以直接拥有父类的属性和方法，私有\n",
    "\n",
    "class Fish():\n",
    "    def __init__(self,name):\n",
    "        self.name = name\n",
    "    def swim(self):\n",
    "        print('我会游泳')\n",
    "        \n",
    "class Bird():\n",
    "    def __init__(self,name):\n",
    "        self.name = name\n",
    "        \n",
    "    def fly(self):\n",
    "        print('我会飞')\n",
    "        \n",
    "        \n",
    "class Person():\n",
    "    def __init__(self,name):\n",
    "        self.name = name\n",
    "        \n",
    "    def work(self):\n",
    "        print('工作')\n",
    "        \n",
    "class Superman(Person,Bird,Fish):  #括号里的父类有顺序的\n",
    "    def __init__(self,name):\n",
    "        self.name = name\n",
    "\n",
    "        \n",
    "        \n",
    "s = Superman('ghc')\n",
    "s.fly()\n",
    "s.swim()\n",
    "\n",
    "#用于测试自己想法\n",
    "\n",
    "\n",
    "\n",
    "#单继承例子\n",
    "        \n",
    "        \n",
    "class Student(Person):\n",
    "    def __init__(self,name):\n",
    "        self.name = name\n",
    "        \n",
    "stu = Student('高同学')\n",
    "stu.work()\n",
    "\n",
    "    \n",
    "    "
   ]
  },
  {
   "cell_type": "code",
   "execution_count": 25,
   "metadata": {},
   "outputs": [
    {
     "name": "stdout",
     "output_type": "stream",
     "text": [
      "init 的功能\n"
     ]
    }
   ],
   "source": [
    "##构造函数\n",
    "\n",
    "\n",
    "class Person():\n",
    "    #对Person类进行实例化的时候\n",
    "    #姓名、年龄、地址\n",
    "    def __init__(self):  #self 可以是其他东西，abc都可以但是一定要有\n",
    "        self.name = 'ghc'\n",
    "        self.age = 18\n",
    "        self.school = '南邮'\n",
    "        print('init 的功能')\n",
    "        \n",
    "#实例化一个人        \n",
    "p = Person()"
   ]
  },
  {
   "cell_type": "code",
   "execution_count": 26,
   "metadata": {},
   "outputs": [
    {
     "name": "stdout",
     "output_type": "stream",
     "text": [
      "B\n"
     ]
    }
   ],
   "source": [
    "#构造函数的调用顺序-1\n",
    "#如果子类没有构造函数，则自动向父类查找，直到找到位置\n",
    "\n",
    "class A():\n",
    "    pass\n",
    "\n",
    "class B():\n",
    "    def __init__(self):\n",
    "        print('B')\n",
    "        \n",
    "class C(B):\n",
    "    pass\n",
    "\n",
    "\n",
    "#此时，首先查找C的构造函数，\n",
    "#如果没有，向上按照MRO的顺序查找父类的构造函数，自动找到\n",
    "\n",
    "c = C()"
   ]
  },
  {
   "cell_type": "code",
   "execution_count": 27,
   "metadata": {},
   "outputs": [
    {
     "ename": "TypeError",
     "evalue": "__init__() missing 1 required positional argument: 'name'",
     "output_type": "error",
     "traceback": [
      "\u001b[1;31m---------------------------------------------------------------------------\u001b[0m",
      "\u001b[1;31mTypeError\u001b[0m                                 Traceback (most recent call last)",
      "\u001b[1;32m<ipython-input-27-e260e1d3a33a>\u001b[0m in \u001b[0;36m<module>\u001b[1;34m()\u001b[0m\n\u001b[0;32m     15\u001b[0m \u001b[1;31m#如果没有，向上按照MRO的顺序查找父类的构造函数，自动找到\u001b[0m\u001b[1;33m\u001b[0m\u001b[1;33m\u001b[0m\u001b[0m\n\u001b[0;32m     16\u001b[0m \u001b[1;33m\u001b[0m\u001b[0m\n\u001b[1;32m---> 17\u001b[1;33m \u001b[0mc\u001b[0m \u001b[1;33m=\u001b[0m \u001b[0mC\u001b[0m\u001b[1;33m(\u001b[0m\u001b[1;33m)\u001b[0m\u001b[1;33m\u001b[0m\u001b[0m\n\u001b[0m",
      "\u001b[1;31mTypeError\u001b[0m: __init__() missing 1 required positional argument: 'name'"
     ]
    }
   ],
   "source": [
    "#构造函数的调用顺序-2\n",
    "\n",
    "class A():\n",
    "    pass\n",
    "\n",
    "class B():\n",
    "    def __init__(self,name):##此时会出现结构不对应错误\n",
    "        \n",
    "        print('B')          #此时B中有两个参数，所以报错了\n",
    "        print(name)\n",
    "        \n",
    "class C(B):\n",
    "    pass\n",
    "\n",
    "\n",
    "#此时，首先查找C的构造函数，\n",
    "#如果没有，向上按照MRO的顺序查找父类的构造函数，自动找到\n",
    "\n",
    "c = C()"
   ]
  },
  {
   "cell_type": "code",
   "execution_count": 29,
   "metadata": {},
   "outputs": [
    {
     "name": "stdout",
     "output_type": "stream",
     "text": [
      "B\n",
      "woshi C\n",
      "这是C中的附加功能2\n"
     ]
    }
   ],
   "source": [
    "#构造函数的调用顺序-3\n",
    "\n",
    "class A():\n",
    "    pass\n",
    "\n",
    "class B():\n",
    "    def __init__(self,name):##此时会出现结构不对应错误\n",
    "        \n",
    "        print('B')          #此时B中有两个参数，所以报错了\n",
    "        print(name)\n",
    "        \n",
    "class C(B):            #c中想扩展B的构造函数，即调用B的构造函数并再添加一些功能\n",
    "                       #有两种方法实现\n",
    "    #第一种是通过父类名调用\n",
    "    def __init__(self,name):   #调用了父类的构造函数\n",
    "        B.__init__(self,name)  #其次，增加了自己的功能\n",
    "        print('这是C种的附加功能')\n",
    "    \n",
    "    #第二种，使用super调用\n",
    "    def __init__(self,name):   #调用了父类的\n",
    "        super(C,self).__init__(name)#增加了自己的功能\n",
    "        print('这是C中的附加功能2')\n",
    "#此时，首先查找C的构造函数，\n",
    "#如果没有，向上按照MRO的顺序查找父类的构造函数，自动找到\n",
    "\n",
    "c = C('woshi C')"
   ]
  }
 ],
 "metadata": {
  "kernelspec": {
   "display_name": "Python 3",
   "language": "python",
   "name": "python3"
  },
  "language_info": {
   "codemirror_mode": {
    "name": "ipython",
    "version": 3
   },
   "file_extension": ".py",
   "mimetype": "text/x-python",
   "name": "python",
   "nbconvert_exporter": "python",
   "pygments_lexer": "ipython3",
   "version": "3.6.5"
  }
 },
 "nbformat": 4,
 "nbformat_minor": 2
}
