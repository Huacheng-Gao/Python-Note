{
 "cells": [
  {
   "cell_type": "markdown",
   "metadata": {},
   "source": [
    "# for，if，else,elif,range\n",
    "- for这一列省略\n",
    "    - range    range（起点，重点，步长）\n",
    "    - 随机生成一个序列，范围可以固定\n",
    "    range在python2和python3中有很大的区别"
   ]
  },
  {
   "cell_type": "code",
   "execution_count": 1,
   "metadata": {},
   "outputs": [
    {
     "name": "stdout",
     "output_type": "stream",
     "text": [
      "1\n",
      "2\n",
      "3\n",
      "4\n",
      "5\n",
      "6\n",
      "7\n",
      "8\n",
      "9\n"
     ]
    }
   ],
   "source": [
    "for i in range(1,10):\n",
    "    print(i)"
   ]
  },
  {
   "cell_type": "code",
   "execution_count": 12,
   "metadata": {},
   "outputs": [
    {
     "name": "stdout",
     "output_type": "stream",
     "text": [
      "madongmei\n",
      "同学我们不约，不约\n",
      "zhangsan\n",
      "同学我们不约，不约\n",
      "lisi\n",
      "我爱你lisi\n",
      "别的同学我不认识\n"
     ]
    }
   ],
   "source": [
    "for name in ['madongmei','zhangsan','lisi']:\n",
    "    print(name)\n",
    "    if name ==\"lisi\":\n",
    "        print(\"我爱你{0}\".format(name))\n",
    "    else :\n",
    "        print(\"同学我们不约，不约\")\n",
    "else:\n",
    "    print(\"别的同学我不认识\")"
   ]
  },
  {
   "cell_type": "markdown",
   "metadata": {},
   "source": [
    "# continue,break, pass\n",
    "- continue结束当前循环\n",
    "- break结束整个循坏\n",
    "- pass直接越过，不报错,用于占位"
   ]
  },
  {
   "cell_type": "code",
   "execution_count": 20,
   "metadata": {},
   "outputs": [
    {
     "name": "stdout",
     "output_type": "stream",
     "text": [
      "hello\n",
      "hello\n",
      "hello\n",
      "hello\n",
      "hello\n",
      "hello\n",
      "hello\n",
      "hello\n",
      "hello\n"
     ]
    }
   ],
   "source": [
    "for i in range(1,10):\n",
    "    pass\n",
    "    print('hello')"
   ]
  },
  {
   "cell_type": "code",
   "execution_count": 21,
   "metadata": {},
   "outputs": [
    {
     "name": "stdout",
     "output_type": "stream",
     "text": [
      "hello\n"
     ]
    }
   ],
   "source": [
    "for i in range(1,10):\n",
    "    pass\n",
    "print('hello')"
   ]
  },
  {
   "cell_type": "code",
   "execution_count": 18,
   "metadata": {},
   "outputs": [
    {
     "name": "stdout",
     "output_type": "stream",
     "text": [
      "2是偶数\n",
      "4是偶数\n",
      "6是偶数\n",
      "8是偶数\n"
     ]
    }
   ],
   "source": [
    "for i in range(1,10):\n",
    "    if i%2==1:\n",
    "        continue\n",
    "    print('{0}是偶数'.format(i))"
   ]
  },
  {
   "cell_type": "markdown",
   "metadata": {},
   "source": [
    "# 函数的调用，函数名后面直接跟括号\n",
    "- func()\n",
    "    - 一个函数要完成一定的功能\n",
    "    \n",
    "## 函数的参数和返回值\n",
    "    - 参数：负责给函数传递一些必要的数据或者信息\n",
    "        - 形参：在函数定义的时候用到的参数，没有具体的值，只是一个占位的符号\n",
    "        - 实参：在调用函数的时候输入的值\n",
    "    - 返回值：函数的执行结果\n",
    "        - 使用return关键字返回一个值\n",
    "        - 如果没有return，就默认返回一个None\n",
    "        - 函数一旦执行了return语句就结束了"
   ]
  },
  {
   "cell_type": "code",
   "execution_count": 9,
   "metadata": {},
   "outputs": [
    {
     "name": "stdout",
     "output_type": "stream",
     "text": [
      "gaohc，你来了啊\n",
      "老哥，不要不理我啊\n"
     ]
    }
   ],
   "source": [
    "def hello(person):\n",
    "    print('{0}，你来了啊'.format(person))\n",
    "    print('老哥，不要不理我啊')\n",
    "    \n",
    "person='gaohc'#p='gaohc'也可以的\n",
    "hello(p)"
   ]
  },
  {
   "cell_type": "code",
   "execution_count": 10,
   "metadata": {},
   "outputs": [
    {
     "name": "stdout",
     "output_type": "stream",
     "text": [
      "gaohc，你来了啊\n",
      "老哥，不要不理我啊\n",
      "我已经完成了，要走了gaohc，gaohc你走吗？\n"
     ]
    }
   ],
   "source": [
    "def hello(person):\n",
    "    print('{0}，你来了啊'.format(person))\n",
    "    print('老哥，不要不理我啊')\n",
    "    \n",
    "    return  \"我已经完成了，要走了{0}，{1}你走吗？\".format(person,person)\n",
    "p='gaohc'\n",
    "r=hello(p)\n",
    "print(r)"
   ]
  },
  {
   "cell_type": "code",
   "execution_count": 11,
   "metadata": {},
   "outputs": [
    {
     "name": "stdout",
     "output_type": "stream",
     "text": [
      "gaohc，你来了啊\n",
      "老哥，不要不理我啊\n"
     ]
    },
    {
     "data": {
      "text/plain": [
       "'我已经完成了，要走了gaohc，gaohc你走吗？'"
      ]
     },
     "execution_count": 11,
     "metadata": {},
     "output_type": "execute_result"
    }
   ],
   "source": [
    "##与上一个代码片段对比下有什么区别\n",
    "def hello(person):\n",
    "    print('{0}，你来了啊'.format(person))\n",
    "    print('老哥，不要不理我啊')\n",
    "    \n",
    "    return  \"我已经完成了，要走了{0}，{1}你走吗？\".format(person,person)\n",
    "p='gaohc'\n",
    "hello(p)"
   ]
  },
  {
   "cell_type": "markdown",
   "metadata": {},
   "source": [
    "# 九九乘法表\n",
    "    # 1\n",
    "    # 2 4\n",
    "    # 3 6 9\n",
    "    # .....\n",
    "## 典型的for循环，1行1列，2行2列......."
   ]
  },
  {
   "cell_type": "code",
   "execution_count": 20,
   "metadata": {},
   "outputs": [
    {
     "name": "stdout",
     "output_type": "stream",
     "text": [
      "1 --------------\n",
      "2 4 --------------\n",
      "3 6 9 --------------\n",
      "4 8 12 16 --------------\n",
      "5 10 15 20 25 --------------\n",
      "6 12 18 24 30 36 --------------\n",
      "7 14 21 28 35 42 49 --------------\n",
      "8 16 24 32 40 48 56 64 --------------\n",
      "9 18 27 36 45 54 63 72 81 --------------\n"
     ]
    }
   ],
   "source": [
    "#九九乘法表\n",
    "\n",
    "\n",
    "for row in range(1,10):  #打印九行\n",
    "    for col in range(1,row+1):\n",
    "        print(row*col,end=' ')      #print函数默认任务打印完毕后直接换行\n",
    "    print('--------------')"
   ]
  },
  {
   "cell_type": "code",
   "execution_count": 18,
   "metadata": {},
   "outputs": [
    {
     "name": "stdout",
     "output_type": "stream",
     "text": [
      "Help on built-in function print in module builtins:\n",
      "\n",
      "print(...)\n",
      "    print(value, ..., sep=' ', end='\\n', file=sys.stdout, flush=False)\n",
      "    \n",
      "    Prints the values to a stream, or to sys.stdout by default.\n",
      "    Optional keyword arguments:\n",
      "    file:  a file-like object (stream); defaults to the current sys.stdout.\n",
      "    sep:   string inserted between values, default a space.\n",
      "    end:   string appended after the last value, default a newline.\n",
      "    flush: whether to forcibly flush the stream.\n",
      "\n"
     ]
    }
   ],
   "source": [
    "help(print)"
   ]
  },
  {
   "cell_type": "code",
   "execution_count": 23,
   "metadata": {},
   "outputs": [
    {
     "name": "stdout",
     "output_type": "stream",
     "text": [
      "1 -------------\n",
      "2 4 -------------\n",
      "3 6 9 -------------\n",
      "4 8 12 16 -------------\n",
      "5 10 15 20 25 -------------\n",
      "6 12 18 24 30 36 -------------\n",
      "7 14 21 28 35 42 49 -------------\n",
      "8 16 24 32 40 48 56 64 -------------\n",
      "9 18 27 36 45 54 63 72 81 -------------\n"
     ]
    }
   ],
   "source": [
    "#定义一个函数，打印九九乘法表\n",
    "\n",
    "def printLine(row):\n",
    "    for col in range(1,row+1):\n",
    "        print(row*col,end=' ')\n",
    "    print('-------------')\n",
    "    \n",
    "\n",
    "for row in range(1,10):\n",
    "    printLine(row)"
   ]
  },
  {
   "cell_type": "markdown",
   "metadata": {},
   "source": [
    "# 参数详解\n",
    "- 参数分类\n",
    "    - 普通参数\n",
    "    - 默认参数\n",
    "    - 关键字参数\n",
    "    - 收集参数\n",
    "- 普通参数\n",
    "    - 参见上列\n",
    "    - 定义时直接定义变量名\n",
    "    - 调用的时候直接把变量或者值放入指定的位置\n",
    "\n",
    "            def 函数名（参数1，参数2，.....）：\n",
    "                函数体\n",
    "                \n",
    "             \n",
    "             #调用\n",
    "             函数名（value1，value2，.....）\n",
    "             \n",
    "             #调用的时候，具体值参考的是位置，按位置赋值\n",
    "- 默认参数\n",
    "    - 形参带有的默认值\n",
    "    - 调用的时候，如果没对相应的参数进行赋值的话就是用默认值\n",
    "\n",
    "            def func_name(p1=v1,p2=v2,.......):\n",
    "                func_block\n",
    "                \n",
    "                \n",
    "             #调用1\n",
    "             func_name()\n",
    "             \n",
    "             #调用2\n",
    "             value1=100\n",
    "             value2=200\n",
    "             func_name(value1,value2)\n",
    "             "
   ]
  },
  {
   "cell_type": "code",
   "execution_count": 24,
   "metadata": {},
   "outputs": [],
   "source": [
    "#默认参数示例\n",
    "\n",
    "def reg(name,age,gender='male'):\n",
    "    if gender =='male':\n",
    "        print('{0} 是 {1} 岁，是一个普通的男同学'.format(name,age))\n",
    "    else:\n",
    "        print(' {0} 是 {1} 岁，是一个萌妹子'.format(name,age))"
   ]
  },
  {
   "cell_type": "code",
   "execution_count": 25,
   "metadata": {},
   "outputs": [
    {
     "name": "stdout",
     "output_type": "stream",
     "text": [
      "gaohc 是 24 岁，是一个普通的男同学\n"
     ]
    }
   ],
   "source": [
    "reg('gaohc',24)"
   ]
  },
  {
   "cell_type": "code",
   "execution_count": 27,
   "metadata": {},
   "outputs": [
    {
     "name": "stdout",
     "output_type": "stream",
     "text": [
      " madongmei 是 23 岁，是一个萌妹子\n"
     ]
    }
   ],
   "source": [
    "reg('madongmei',23,'female')"
   ]
  },
  {
   "cell_type": "markdown",
   "metadata": {},
   "source": [
    "## 关键字参数\n",
    "    - 语法\n",
    "        def func(p1=v1,p2=v2,.....):\n",
    "           func_body\n",
    "           \n",
    "         \n",
    "         调用函数：\n",
    "         func=（p1=value1.p2=value2,.....）\n",
    "- 使用比较麻烦，但是好处也看得见：\n",
    "     - 不容易混淆，一般实参和形参就只按照位置一一对应即可，容易出错\n",
    "     - 使用关键字参数，可以不考虑参数为位置"
   ]
  },
  {
   "cell_type": "markdown",
   "metadata": {},
   "source": [
    "## 收集参数\n",
    "- 把没有位置，不能和定义时的参数位置相对应的参数，放入一个特定的数据结构中\n",
    "    - 语法\n",
    "        def func(*args):\n",
    "           func_body\n",
    "           \n",
    "    - 调用\n",
    "        func(p1,p2,p3,.....)\n",
    "        - 参数名arg不是必须这么写，但是我们推荐这样用，约定俗成\n",
    "        - 参数名args前面要加星号\n",
    "        - 收集参数可以和其他参数共存\n",
    "        "
   ]
  },
  {
   "cell_type": "code",
   "execution_count": 9,
   "metadata": {},
   "outputs": [
    {
     "name": "stdout",
     "output_type": "stream",
     "text": [
      "hello 大家好，我简单说两句：\n",
      "<class 'tuple'>\n",
      "高华成\n",
      "20\n",
      "南邮\n",
      "single\n",
      "hello 大家好，我简单说两句：\n",
      "<class 'tuple'>\n",
      "YIBANBAN\n"
     ]
    }
   ],
   "source": [
    "def stu(*args):\n",
    "    print('hello 大家好，我自我介绍一下：')\n",
    "    print(type (args))\n",
    "    for item in args:\n",
    "        print(item)\n",
    "        \n",
    "        \n",
    "\n",
    "stu ('高华成', 24 ,'南邮' , 'single')\n",
    "stu ('YIBANBAN')"
   ]
  },
  {
   "cell_type": "markdown",
   "metadata": {},
   "source": [
    "## 收集参数之关键字收集参数\n",
    "    - 把关键字参数安字典格式存入收集参数\n",
    "    - 语法：\n",
    "            \n",
    "            def func(**kwargs)\n",
    "               func_body\n",
    "               \n",
    "           调用：\n",
    "              func(p1=v1,p2=v2,....)\n",
    "- kwargs 一般是约定俗成的，也可以用args,但是一定要有两个星号\n",
    "- 调用的时候，把多余的关键字参数放入kwargs\n",
    "- 访问kwargs需要采用字典格式访问\n",
    " "
   ]
  },
  {
   "cell_type": "code",
   "execution_count": 12,
   "metadata": {},
   "outputs": [
    {
     "name": "stdout",
     "output_type": "stream",
     "text": [
      "hello,大家好，我先自我介绍一下：\n",
      "<class 'dict'>\n",
      "name **** 高华成\n",
      "age **** 20\n",
      "addr **** 南邮\n",
      "work **** teacher\n",
      "**************************************************\n",
      "hello,大家好，我先自我介绍一下：\n",
      "<class 'dict'>\n",
      "name **** gaohuac\n"
     ]
    }
   ],
   "source": [
    "#收集参数案例\n",
    "#调用的时候需要使用关键字参数调用\n",
    "\n",
    "def stu(**kwargs): #在函数体内调用kwargs时可以不带星号\n",
    "    print('hello,大家好，我先自我介绍一下：')\n",
    "    print(type(kwargs))\n",
    "    \n",
    "    #对于字典的使用，python2/3有区别\n",
    "    for k,v in kwargs.items():\n",
    "        print (k,'****',v)\n",
    "stu(name='高华成' , age=20 , addr='南邮' , work='teacher')\n",
    "\n",
    "print('*' * 50)\n",
    "\n",
    "stu(name='gaohuac')"
   ]
  },
  {
   "cell_type": "markdown",
   "metadata": {},
   "source": [
    "## 收集参数混合调用的顺序问题\n",
    "- 收集参数、关键字参数、普通参数可以混合使用\n",
    "- 使用规则就是，普通参数和关键字参数优先\n",
    "- 定义的时候顺序一般是：普通参数、关键字参数、收集参数turtle、收集参数dict"
   ]
  },
  {
   "cell_type": "code",
   "execution_count": 16,
   "metadata": {},
   "outputs": [
    {
     "name": "stdout",
     "output_type": "stream",
     "text": [
      "hello,大家好，\n",
      "我叫{0},我今年 {1} 岁，\n",
      "我没有爱好，只有撸代码。。。\n",
      "**************************************************\n",
      "##################################################\n",
      "hello,大家好，\n",
      "我叫{0},我今年 {1} 岁，\n",
      "我撸的代码贼舒服，但是发展了一个爱好是：羽毛球\n",
      "**************************************************\n",
      "##################################################\n",
      "hello,大家好，\n",
      "我叫{0},我今年 {1} 岁，\n",
      "我撸的代码贼舒服，但是发展了一个爱好是：游泳\n",
      "**************************************************\n",
      "zhangsan\n",
      "lisi\n",
      "##################################################\n",
      "hobby2 ----- youxi\n"
     ]
    }
   ],
   "source": [
    "#收集参数混合调用案例\n",
    "#stu模拟一个自我介绍\n",
    "\n",
    "\n",
    "def stu(name,age,*args,hobby='NONE',**kwargs):#要注意这几个参数的位置，如果哦将*args放在hobby后面的话就会报错\n",
    "    print('hello,大家好，')\n",
    "    print('我叫{0},我今年 {1} 岁，')\n",
    "    if hobby=='NONE':\n",
    "        print('我没有爱好，只有撸代码。。。')\n",
    "    else:\n",
    "        print('我撸的代码贼舒服，但是发展了一个爱好是：{0}'.format(hobby))\n",
    "    print('*'*50)\n",
    "    \n",
    "    for i in args:\n",
    "        print(i)\n",
    "        \n",
    "    print('#'*50)\n",
    "    \n",
    "    for k,v in kwargs.items():\n",
    "        print(k,'-----',v)\n",
    "        \n",
    "#开始调用函数\n",
    "name =  '高华成'\n",
    "age = 20\n",
    "\n",
    "\n",
    "#调用的不同格式\n",
    "\n",
    "stu(name,age)\n",
    "\n",
    "stu(name,age,hobby='羽毛球')\n",
    "\n",
    "stu(name,age,'zhangsan','lisi',hobby='游泳',hobby2='youxi')\n"
   ]
  },
  {
   "cell_type": "markdown",
   "metadata": {},
   "source": [
    " # 函数文档\n",
    "     - 函数的文档的作用是对当前函数提供使用参考新的\n",
    "     - 文档的写法\n",
    "         - 在函数内部开始的第一行使用三引号串定义符(zai IDE中会显示)\n",
    "         - 一般具有特定的格式\n",
    "         - 参看案例\n",
    "     - 文档查看\n",
    "         - 使用help函数，如help(func)\n",
    "         - 使用_doc__,参考案例"
   ]
  },
  {
   "cell_type": "code",
   "execution_count": 23,
   "metadata": {},
   "outputs": [],
   "source": [
    "#文档案例\n",
    "\n",
    "def stu(name,age,*args):\n",
    "    ''''''\n",
    "    print('文档说明')"
   ]
  },
  {
   "cell_type": "code",
   "execution_count": 25,
   "metadata": {},
   "outputs": [
    {
     "name": "stdout",
     "output_type": "stream",
     "text": [
      "Help on function stu in module __main__:\n",
      "\n",
      "stu(name, age)\n",
      "\n",
      "None\n",
      "********************\n",
      "\n"
     ]
    }
   ],
   "source": [
    "def stu(name,age):\n",
    "    ''''''\n",
    "    \n",
    "    pass\n",
    "\n",
    "print(help(stu))\n",
    "\n",
    "print('*'*20)\n",
    "\n",
    "print(stu.__doc__)"
   ]
  },
  {
   "cell_type": "code",
   "execution_count": null,
   "metadata": {},
   "outputs": [],
   "source": []
  },
  {
   "cell_type": "code",
   "execution_count": null,
   "metadata": {},
   "outputs": [],
   "source": []
  },
  {
   "cell_type": "code",
   "execution_count": null,
   "metadata": {},
   "outputs": [],
   "source": []
  },
  {
   "cell_type": "code",
   "execution_count": null,
   "metadata": {},
   "outputs": [],
   "source": []
  },
  {
   "cell_type": "code",
   "execution_count": null,
   "metadata": {},
   "outputs": [],
   "source": []
  },
  {
   "cell_type": "code",
   "execution_count": null,
   "metadata": {},
   "outputs": [],
   "source": []
  },
  {
   "cell_type": "code",
   "execution_count": null,
   "metadata": {},
   "outputs": [],
   "source": []
  },
  {
   "cell_type": "code",
   "execution_count": null,
   "metadata": {},
   "outputs": [],
   "source": []
  },
  {
   "cell_type": "code",
   "execution_count": null,
   "metadata": {},
   "outputs": [],
   "source": []
  },
  {
   "cell_type": "code",
   "execution_count": null,
   "metadata": {},
   "outputs": [],
   "source": [
    "\n"
   ]
  }
 ],
 "metadata": {
  "kernelspec": {
   "display_name": "Python 3",
   "language": "python",
   "name": "python3"
  },
  "language_info": {
   "codemirror_mode": {
    "name": "ipython",
    "version": 3
   },
   "file_extension": ".py",
   "mimetype": "text/x-python",
   "name": "python",
   "nbconvert_exporter": "python",
   "pygments_lexer": "ipython3",
   "version": "3.6.5"
  }
 },
 "nbformat": 4,
 "nbformat_minor": 2
}
