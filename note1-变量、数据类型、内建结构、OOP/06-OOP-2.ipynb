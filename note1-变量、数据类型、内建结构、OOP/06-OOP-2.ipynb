{
 "cells": [
  {
   "cell_type": "code",
   "execution_count": 5,
   "metadata": {},
   "outputs": [
    {
     "name": "stdout",
     "output_type": "stream",
     "text": [
      "我的名字叫 GAO HUACHENG \n",
      "我的名字叫 CUI YAN \n"
     ]
    }
   ],
   "source": [
    "#属性案列\n",
    "#创建student类，描述学生类\n",
    "#学生具有student.name属性\n",
    "#但name格式并不统一\n",
    "\n",
    "class Student():\n",
    "    def __init__(self,name,age):\n",
    "        self.name = name\n",
    "        self.age = age\n",
    "        \n",
    "        #如果不想修改代码，加一行\n",
    "        self.resetname(name)\n",
    "        \n",
    "        \n",
    "    #介绍下自己\n",
    "    def intro(self):\n",
    "        print('我的名字叫 {0} '.format(self.name))\n",
    "        \n",
    "    def resetname(self,name):\n",
    "        self.name = name.upper()  #将小写字母变成大写字母\n",
    "        \n",
    "s1 = Student('Gao huacheng',18)\n",
    "s2 = Student('Cui yan',20)\n",
    "\n",
    "s1.intro()\n",
    "s2.intro()"
   ]
  },
  {
   "cell_type": "code",
   "execution_count": 14,
   "metadata": {},
   "outputs": [
    {
     "name": "stdout",
     "output_type": "stream",
     "text": [
      "GAO HUACHENGGAO HUACHENG\n"
     ]
    }
   ],
   "source": [
    "#property案列\n",
    "#定义一个Person类，具有name，age属性\n",
    "#对于任意输入的姓名（大小写随便输入），我们希望用大写方式保存\n",
    "#年龄，我们先希望内部统一的用整数保存\n",
    "# x = property(fget,fset,fdel,doc)\n",
    "\n",
    "class Person():\n",
    "    '''这里是一个类似于解释说明的东西，这个人.......'''\n",
    "    \n",
    "    def fget(self):\n",
    "        return self._name*2   #下划线是必须的，私有变量\n",
    "    def fset(self,name):\n",
    "        #所有的姓名用大写的方式保存\n",
    "        self._name = name.upper()\n",
    "        \n",
    "    def fdel(self):\n",
    "        self._name = 'Noname'\n",
    "        \n",
    "    name = property(fget,fset,fdel,'对name进行一下操作')\n",
    "    \n",
    "p1 = Person()\n",
    "p1.name = 'Gao huacheng'\n",
    "print(p1.name)"
   ]
  },
  {
   "cell_type": "code",
   "execution_count": 16,
   "metadata": {},
   "outputs": [
    {
     "name": "stdout",
     "output_type": "stream",
     "text": [
      "{'__module__': '__main__', '__doc__': '这里是一个类似于解释说明的东西，这个人.......', 'fget': <function Person.fget at 0x00000198B28362F0>, 'fset': <function Person.fset at 0x00000198B28361E0>, 'fdel': <function Person.fdel at 0x00000198B2836268>, 'name': <property object at 0x00000198B2853DB8>, '__dict__': <attribute '__dict__' of 'Person' objects>, '__weakref__': <attribute '__weakref__' of 'Person' objects>}\n",
      "这里是一个类似于解释说明的东西，这个人.......\n",
      "Person\n",
      "(<class 'object'>,)\n"
     ]
    }
   ],
   "source": [
    "# 类的内置属性举例\n",
    "\n",
    "print(Person.__dict__)\n",
    "print(Person.__doc__)\n",
    "print(Person.__name__)\n",
    "print(Person.__bases__)"
   ]
  },
  {
   "cell_type": "code",
   "execution_count": 18,
   "metadata": {},
   "outputs": [
    {
     "name": "stdout",
     "output_type": "stream",
     "text": [
      "我被调用了\n"
     ]
    }
   ],
   "source": [
    "#init举例\n",
    "\n",
    "class A():\n",
    "    def __init__(self,name=0):\n",
    "        print('我被调用了')\n",
    "        \n",
    "a = A()"
   ]
  },
  {
   "cell_type": "code",
   "execution_count": 19,
   "metadata": {},
   "outputs": [
    {
     "name": "stdout",
     "output_type": "stream",
     "text": [
      "我被调用了\n"
     ]
    },
    {
     "ename": "TypeError",
     "evalue": "'A' object is not callable",
     "output_type": "error",
     "traceback": [
      "\u001b[1;31m---------------------------------------------------------------------------\u001b[0m",
      "\u001b[1;31mTypeError\u001b[0m                                 Traceback (most recent call last)",
      "\u001b[1;32m<ipython-input-19-f4142e4199b4>\u001b[0m in \u001b[0;36m<module>\u001b[1;34m()\u001b[0m\n\u001b[0;32m      5\u001b[0m \u001b[1;33m\u001b[0m\u001b[0m\n\u001b[0;32m      6\u001b[0m \u001b[0ma\u001b[0m \u001b[1;33m=\u001b[0m \u001b[0mA\u001b[0m\u001b[1;33m(\u001b[0m\u001b[1;33m)\u001b[0m\u001b[1;33m\u001b[0m\u001b[0m\n\u001b[1;32m----> 7\u001b[1;33m \u001b[0ma\u001b[0m\u001b[1;33m(\u001b[0m\u001b[1;33m)\u001b[0m\u001b[1;31m#默认调用了__call__函数\u001b[0m\u001b[1;33m\u001b[0m\u001b[0m\n\u001b[0m",
      "\u001b[1;31mTypeError\u001b[0m: 'A' object is not callable"
     ]
    }
   ],
   "source": [
    "#call举例\n",
    "class A():\n",
    "    def __init__(self,name=0):\n",
    "        print('我被调用了')\n",
    "        \n",
    "a = A()\n",
    "a()#默认调用了__call__函数\n"
   ]
  },
  {
   "cell_type": "code",
   "execution_count": 20,
   "metadata": {},
   "outputs": [
    {
     "name": "stdout",
     "output_type": "stream",
     "text": [
      "我被调用了\n",
      "我再次被调用了\n"
     ]
    }
   ],
   "source": [
    "#call举例\n",
    "class A():\n",
    "    def __init__(self,name=0):\n",
    "        print('我被调用了')\n",
    "    def __call__(self):\n",
    "        print('我再次被调用了')\n",
    "        \n",
    "a = A()\n",
    "a()#默认调用了__call__函数"
   ]
  },
  {
   "cell_type": "code",
   "execution_count": 21,
   "metadata": {},
   "outputs": [
    {
     "name": "stdout",
     "output_type": "stream",
     "text": [
      "我被调用了\n",
      "我再次被调用了\n",
      "我在学python\n"
     ]
    }
   ],
   "source": [
    "#__str__举例\n",
    "\n",
    "class A():\n",
    "    def __init__(self,name=0):\n",
    "        print('我被调用了')\n",
    "    def __call__(self):\n",
    "        print('我再次被调用了')\n",
    "    def __str__(self):\n",
    "        return '我在学python'\n",
    "        \n",
    "a = A()\n",
    "a()#默认调用了__call__函数\n",
    "\n",
    "print(a)"
   ]
  },
  {
   "cell_type": "code",
   "execution_count": 23,
   "metadata": {},
   "outputs": [
    {
     "name": "stdout",
     "output_type": "stream",
     "text": [
      "noname\n",
      "没找到\n",
      "addr\n",
      "None\n"
     ]
    }
   ],
   "source": [
    "#__getattr__\n",
    "\n",
    "class A():\n",
    "    name = 'noname'\n",
    "    age = 18\n",
    "    def __getattr__(self,name):\n",
    "        print('没找到')\n",
    "        print(name)\n",
    "        \n",
    "a = A()\n",
    "print(a.name)\n",
    "print(a.addr)"
   ]
  },
  {
   "cell_type": "code",
   "execution_count": 26,
   "metadata": {},
   "outputs": [
    {
     "name": "stdout",
     "output_type": "stream",
     "text": [
      "{}\n",
      "设置属性： age \n"
     ]
    }
   ],
   "source": [
    "#__setattr__案例\n",
    "\n",
    "class Person():\n",
    "    def __init__(self):\n",
    "        pass\n",
    "    def __setattr__(self,name,value):\n",
    "        print('设置属性： {0} '.format(name))\n",
    "        \n",
    "        #下面语句会导致死循环，\n",
    "        #self.name = value   #重复设置了属性,并调用了__setattr__\n",
    "        #此种情况，为了避免死循环，规定统一调用父类的魔法函数\n",
    "        super().__setattr__(name,value)\n",
    "        \n",
    "        \n",
    "p = Person()\n",
    "print(p.__dict__)\n",
    "p.age = 18    #第一遍的age,应该是这样的：name=age,value=18,"
   ]
  },
  {
   "cell_type": "code",
   "execution_count": 6,
   "metadata": {},
   "outputs": [
    {
     "name": "stdout",
     "output_type": "stream",
     "text": [
      "哈哈，<__main__.Student object at 0x0000023EF1372F98> 会比<__main__.Student object at 0x0000023EF1372F60>大吗？\n",
      "False\n"
     ]
    }
   ],
   "source": [
    "#__gt__\n",
    "\n",
    "class Student():\n",
    "    def __init__(self,name):\n",
    "        self.name = name\n",
    "    \n",
    "    def __gt__(self,obj):\n",
    "        print('哈哈，{0} 会比{1}大吗？'.format(self,obj))\n",
    "    \n",
    "        return self.name > obj.name\n",
    "    \n",
    "stu1 = Student('one')\n",
    "stu2 = Student('two')\n",
    "\n",
    "print(stu1>stu2)"
   ]
  },
  {
   "cell_type": "code",
   "execution_count": null,
   "metadata": {},
   "outputs": [],
   "source": []
  }
 ],
 "metadata": {
  "kernelspec": {
   "display_name": "Python 3",
   "language": "python",
   "name": "python3"
  },
  "language_info": {
   "codemirror_mode": {
    "name": "ipython",
    "version": 3
   },
   "file_extension": ".py",
   "mimetype": "text/x-python",
   "name": "python",
   "nbconvert_exporter": "python",
   "pygments_lexer": "ipython3",
   "version": "3.6.5"
  }
 },
 "nbformat": 4,
 "nbformat_minor": 2
}
