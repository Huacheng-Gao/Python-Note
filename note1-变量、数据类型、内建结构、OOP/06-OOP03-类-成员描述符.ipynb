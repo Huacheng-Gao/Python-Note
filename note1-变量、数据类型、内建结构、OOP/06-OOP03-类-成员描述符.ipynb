{
 "cells": [
  {
   "cell_type": "code",
   "execution_count": 5,
   "metadata": {},
   "outputs": [
    {
     "name": "stdout",
     "output_type": "stream",
     "text": [
      "高华成\n",
      "高华成\n"
     ]
    }
   ],
   "source": [
    "#变量的三种用法\n",
    "\n",
    "class A():\n",
    "    def __init__(self):\n",
    "        self.name = 'haha'\n",
    "        self.age = 18\n",
    "        \n",
    "a = A()\n",
    "#属性的三种用法\n",
    "#1.赋值\n",
    "#2.读取\n",
    "#3.删除\n",
    "a.name = '高华成'\n",
    "print(a.name)\n",
    "#del a.name  #如果使用此条指令，则会报错，因为我们已经删除name了，所以就不存在了\n",
    "print(a.name)"
   ]
  },
  {
   "cell_type": "code",
   "execution_count": 9,
   "metadata": {},
   "outputs": [
    {
     "name": "stdout",
     "output_type": "stream",
     "text": [
      "haha\n",
      "我被读取了\n",
      "haha\n"
     ]
    }
   ],
   "source": [
    "#类属性property\n",
    "#应用场景：\n",
    "#对变量除了普通的三种操作，我还想增加一切附加操作，那么可以用property实现\n",
    "\n",
    "class A():\n",
    "    def __init__(self):\n",
    "        self.name = 'haha'\n",
    "        self.age = 18\n",
    "    #此功能是对类变量进行读取操作的时候应执行的函数功能\n",
    "    def fget(self):\n",
    "        print('我被读取了')\n",
    "        return self.name\n",
    "    \n",
    "    #模拟的是对变量进行写操作的时候执行此功能\n",
    "    def fset(self,name):\n",
    "        print('我被写入了，但是还有其他的要求，')\n",
    "        self.name = '我是南邮的：' + name\n",
    "        \n",
    "    #fdel模拟删除的时候进行的操作\n",
    "    def fdel(selg):\n",
    "        pass \n",
    "    \n",
    "    #property的四个参数顺序是固定的\n",
    "    #第一个参数代表读取的时候调用的\n",
    "    #第二个参数代表写入的时候调用的\n",
    "    #第三个是删除\n",
    "    \n",
    "    name2 = property(fget,fset,fdel,'这是一个property例子的说明文档')\n",
    "    \n",
    "a = A()\n",
    "print(a.name)\n",
    "\n",
    "print(a.name2)"
   ]
  },
  {
   "cell_type": "code",
   "execution_count": 11,
   "metadata": {},
   "outputs": [
    {
     "name": "stdout",
     "output_type": "stream",
     "text": [
      "闻一下对方\n",
      "hello,你好\n"
     ]
    }
   ],
   "source": [
    "#抽象\n",
    "\n",
    "class Animal():\n",
    "    def sayhello(self):\n",
    "     ##   print('闻闻味道')  我们要改，不然不会完全适合所有的子类，我们要把定义下方到子类中\n",
    "        pass\n",
    "        \n",
    "class Dog(Animal):\n",
    "    \n",
    "    def sayhello(self):\n",
    "        print('闻一下对方')\n",
    "\n",
    "class Person(Animal):\n",
    "    def sayhello(self):\n",
    "        print('hello,你好')\n",
    "\n",
    "\n",
    "d = Dog()\n",
    "d.sayhello()###狗可以问，但是人不行啊 ，所以我们需要在子类中第一，\n",
    "\n",
    "p = Person()\n",
    "p.sayhello()"
   ]
  },
  {
   "cell_type": "code",
   "execution_count": 16,
   "metadata": {},
   "outputs": [],
   "source": [
    "#抽象类的实现\n",
    "\n",
    "import abc\n",
    "\n",
    "#申明一个类并且指定当前类的元类\n",
    "class Human(metaclass = abc.ABCMeta):\n",
    "    \n",
    "    #定义一个抽象方法\n",
    "    def smoking(self):\n",
    "        pass\n",
    "    \n",
    "    #定义抽象类的方法\n",
    "    def drink():\n",
    "        pass\n",
    "    \n",
    "    #定义静态抽象方法\n",
    "    def play():\n",
    "        pass\n",
    "    \n",
    "    def sleeping(self):\n",
    "        print('sleeping......')"
   ]
  },
  {
   "cell_type": "code",
   "execution_count": 18,
   "metadata": {},
   "outputs": [
    {
     "name": "stdout",
     "output_type": "stream",
     "text": [
      "ghc你好呀，\n",
      "高华成你好呀，\n"
     ]
    }
   ],
   "source": [
    "#函数名可以当变量使用\n",
    "\n",
    "def sayhello(name):\n",
    "    print('{0}你好呀，'.format(name))\n",
    "    \n",
    "sayhello('ghc')\n",
    "\n",
    "gaohuacheng = sayhello\n",
    "\n",
    "gaohuacheng('高华成')"
   ]
  },
  {
   "cell_type": "code",
   "execution_count": 1,
   "metadata": {},
   "outputs": [
    {
     "name": "stdout",
     "output_type": "stream",
     "text": [
      "saying....\n",
      "saying....\n",
      "说话....\n"
     ]
    }
   ],
   "source": [
    "#自定定义一个类\n",
    "\n",
    "class A():\n",
    "    pass\n",
    "\n",
    "def say(self):\n",
    "    print('saying....')\n",
    "\n",
    "class B():\n",
    "    def say(self):\n",
    "        print('说话....')\n",
    "    \n",
    "\n",
    "say(1)\n",
    "\n",
    "A.say = say#say是函数的名称\n",
    "\n",
    "a = A()  #a是实例\n",
    "a.say()\n",
    "\n",
    "b = B()\n",
    "b.say()"
   ]
  },
  {
   "cell_type": "code",
   "execution_count": 2,
   "metadata": {},
   "outputs": [
    {
     "name": "stdout",
     "output_type": "stream",
     "text": [
      "Help on class type in module builtins:\n",
      "\n",
      "class type(object)\n",
      " |  type(object_or_name, bases, dict)\n",
      " |  type(object) -> the object's type\n",
      " |  type(name, bases, dict) -> a new type\n",
      " |  \n",
      " |  Methods defined here:\n",
      " |  \n",
      " |  __call__(self, /, *args, **kwargs)\n",
      " |      Call self as a function.\n",
      " |  \n",
      " |  __delattr__(self, name, /)\n",
      " |      Implement delattr(self, name).\n",
      " |  \n",
      " |  __dir__(...)\n",
      " |      __dir__() -> list\n",
      " |      specialized __dir__ implementation for types\n",
      " |  \n",
      " |  __getattribute__(self, name, /)\n",
      " |      Return getattr(self, name).\n",
      " |  \n",
      " |  __init__(self, /, *args, **kwargs)\n",
      " |      Initialize self.  See help(type(self)) for accurate signature.\n",
      " |  \n",
      " |  __instancecheck__(...)\n",
      " |      __instancecheck__() -> bool\n",
      " |      check if an object is an instance\n",
      " |  \n",
      " |  __new__(*args, **kwargs)\n",
      " |      Create and return a new object.  See help(type) for accurate signature.\n",
      " |  \n",
      " |  __prepare__(...)\n",
      " |      __prepare__() -> dict\n",
      " |      used to create the namespace for the class statement\n",
      " |  \n",
      " |  __repr__(self, /)\n",
      " |      Return repr(self).\n",
      " |  \n",
      " |  __setattr__(self, name, value, /)\n",
      " |      Implement setattr(self, name, value).\n",
      " |  \n",
      " |  __sizeof__(...)\n",
      " |      __sizeof__() -> int\n",
      " |      return memory consumption of the type object\n",
      " |  \n",
      " |  __subclasscheck__(...)\n",
      " |      __subclasscheck__() -> bool\n",
      " |      check if a class is a subclass\n",
      " |  \n",
      " |  __subclasses__(...)\n",
      " |      __subclasses__() -> list of immediate subclasses\n",
      " |  \n",
      " |  mro(...)\n",
      " |      mro() -> list\n",
      " |      return a type's method resolution order\n",
      " |  \n",
      " |  ----------------------------------------------------------------------\n",
      " |  Data descriptors defined here:\n",
      " |  \n",
      " |  __abstractmethods__\n",
      " |  \n",
      " |  __dict__\n",
      " |  \n",
      " |  __text_signature__\n",
      " |  \n",
      " |  ----------------------------------------------------------------------\n",
      " |  Data and other attributes defined here:\n",
      " |  \n",
      " |  __base__ = <class 'object'>\n",
      " |      The most base type\n",
      " |  \n",
      " |  __bases__ = (<class 'object'>,)\n",
      " |  \n",
      " |  __basicsize__ = 864\n",
      " |  \n",
      " |  __dictoffset__ = 264\n",
      " |  \n",
      " |  __flags__ = -2146675712\n",
      " |  \n",
      " |  __itemsize__ = 40\n",
      " |  \n",
      " |  __mro__ = (<class 'type'>, <class 'object'>)\n",
      " |  \n",
      " |  __weakrefoffset__ = 368\n",
      "\n"
     ]
    }
   ],
   "source": [
    "help(type)"
   ]
  },
  {
   "cell_type": "code",
   "execution_count": null,
   "metadata": {},
   "outputs": [],
   "source": []
  },
  {
   "cell_type": "code",
   "execution_count": 5,
   "metadata": {},
   "outputs": [
    {
     "name": "stdout",
     "output_type": "stream",
     "text": [
      "saying.....\n",
      "talking.....\n"
     ]
    }
   ],
   "source": [
    "#利用type造一个类\n",
    "\n",
    "#先定义类应该具有的成员函数\n",
    "def say(self):\n",
    "    print('saying.....')\n",
    "    \n",
    "def talk(self):\n",
    "    print('talking.....')\n",
    "    \n",
    "#用type创建一个类\n",
    "A = type('Aname',(object, ),{'class_say':say,'class_talk':talk})#这是根据上面help（type）中第三行写出来的，参看上一个案例\n",
    "\n",
    "#然后就可以正常访问使用类了\n",
    "\n",
    "a = A()\n",
    "\n",
    "a.class_say()\n",
    "a.class_talk()"
   ]
  },
  {
   "cell_type": "code",
   "execution_count": 10,
   "metadata": {},
   "outputs": [
    {
     "name": "stdout",
     "output_type": "stream",
     "text": [
      "南邮真牛B,我是元类。\n",
      "10180716xx\n"
     ]
    },
    {
     "data": {
      "text/plain": [
       "'新模范马路66号'"
      ]
     },
     "execution_count": 10,
     "metadata": {},
     "output_type": "execute_result"
    }
   ],
   "source": [
    "#元类是类\n",
    "\n",
    "#元类写法是固定的，他必须继承自type\n",
    "#元类一般是以MetaClass结尾\n",
    "class NanyouMetaClass(type):\n",
    "    #注意下面的写法\n",
    "    def __new__(cls,name,bases,attrs):\n",
    "        #自己的功能定义\n",
    "        print('南邮真牛B,我是元类。')\n",
    "        attrs['id'] = '10180716xx'\n",
    "        attrs['addr'] = '新模范马路66号'\n",
    "        return type.__new__(cls ,name ,bases ,attrs)\n",
    "    \n",
    "class Teacher(object, metaclass = NanyouMetaClass):\n",
    "    pass\n",
    "\n",
    "t = Teacher()\n",
    "\n",
    "t.__dict__\n",
    "\n",
    "print(t.id)\n",
    "t.addr"
   ]
  },
  {
   "cell_type": "code",
   "execution_count": null,
   "metadata": {},
   "outputs": [],
   "source": []
  },
  {
   "cell_type": "code",
   "execution_count": null,
   "metadata": {},
   "outputs": [],
   "source": []
  },
  {
   "cell_type": "code",
   "execution_count": null,
   "metadata": {},
   "outputs": [],
   "source": []
  },
  {
   "cell_type": "code",
   "execution_count": null,
   "metadata": {},
   "outputs": [],
   "source": []
  },
  {
   "cell_type": "code",
   "execution_count": null,
   "metadata": {},
   "outputs": [],
   "source": []
  },
  {
   "cell_type": "code",
   "execution_count": null,
   "metadata": {},
   "outputs": [],
   "source": []
  },
  {
   "cell_type": "code",
   "execution_count": null,
   "metadata": {},
   "outputs": [],
   "source": []
  },
  {
   "cell_type": "code",
   "execution_count": null,
   "metadata": {},
   "outputs": [],
   "source": []
  },
  {
   "cell_type": "code",
   "execution_count": null,
   "metadata": {},
   "outputs": [],
   "source": []
  },
  {
   "cell_type": "code",
   "execution_count": null,
   "metadata": {},
   "outputs": [],
   "source": []
  },
  {
   "cell_type": "code",
   "execution_count": null,
   "metadata": {},
   "outputs": [],
   "source": []
  },
  {
   "cell_type": "code",
   "execution_count": null,
   "metadata": {},
   "outputs": [],
   "source": []
  },
  {
   "cell_type": "code",
   "execution_count": null,
   "metadata": {},
   "outputs": [],
   "source": []
  },
  {
   "cell_type": "code",
   "execution_count": null,
   "metadata": {},
   "outputs": [],
   "source": []
  },
  {
   "cell_type": "code",
   "execution_count": null,
   "metadata": {},
   "outputs": [],
   "source": []
  },
  {
   "cell_type": "code",
   "execution_count": null,
   "metadata": {},
   "outputs": [],
   "source": []
  }
 ],
 "metadata": {
  "kernelspec": {
   "display_name": "Python 3",
   "language": "python",
   "name": "python3"
  },
  "language_info": {
   "codemirror_mode": {
    "name": "ipython",
    "version": 3
   },
   "file_extension": ".py",
   "mimetype": "text/x-python",
   "name": "python",
   "nbconvert_exporter": "python",
   "pygments_lexer": "ipython3",
   "version": "3.6.5"
  }
 },
 "nbformat": 4,
 "nbformat_minor": 2
}
