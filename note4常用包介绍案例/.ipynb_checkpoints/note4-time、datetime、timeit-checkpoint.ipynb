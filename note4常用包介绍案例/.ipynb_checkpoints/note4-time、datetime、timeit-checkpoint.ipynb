{
 "cells": [
  {
   "cell_type": "code",
   "execution_count": 1,
   "metadata": {},
   "outputs": [],
   "source": [
    "#需要单独导入\n",
    "import time"
   ]
  },
  {
   "cell_type": "code",
   "execution_count": 3,
   "metadata": {},
   "outputs": [
    {
     "data": {
      "text/plain": [
       "1542789301.6614723"
      ]
     },
     "execution_count": 3,
     "metadata": {},
     "output_type": "execute_result"
    }
   ],
   "source": [
    "#timezone:\n",
    "#altzone:\n",
    "#daylight:............具体怎么用百度哦..........\n",
    "#time.time得到时间戳\n",
    "\n",
    "time.time()"
   ]
  },
  {
   "cell_type": "code",
   "execution_count": 4,
   "metadata": {},
   "outputs": [
    {
     "name": "stdout",
     "output_type": "stream",
     "text": [
      "time.struct_time(tm_year=2018, tm_mon=11, tm_mday=21, tm_hour=16, tm_min=36, tm_sec=46, tm_wday=2, tm_yday=325, tm_isdst=0)\n",
      "16\n"
     ]
    }
   ],
   "source": [
    "#得到当前时间的时间结构\n",
    "#可以通过点号操作符得到相应的属性元素内容\n",
    "t = time.localtime()\n",
    "print(t)\n",
    "print(t.tm_hour)"
   ]
  },
  {
   "cell_type": "code",
   "execution_count": 5,
   "metadata": {},
   "outputs": [
    {
     "name": "stdout",
     "output_type": "stream",
     "text": [
      "<class 'str'>\n",
      "Wed Nov 21 16:40:17 2018\n"
     ]
    }
   ],
   "source": [
    "#asctime（）返回元组的正常字符串之后的时间格式\n",
    "#格式：time.asctime(时间元组)\n",
    "\n",
    "t = time.localtime()\n",
    "tt = time.asctime()\n",
    "print(type(tt))\n",
    "print(tt)"
   ]
  },
  {
   "cell_type": "code",
   "execution_count": 7,
   "metadata": {},
   "outputs": [
    {
     "name": "stdout",
     "output_type": "stream",
     "text": [
      "<class 'str'>\n",
      "Wed Nov 21 16:42:48 2018\n"
     ]
    }
   ],
   "source": [
    "#ctime:获取字符串化的当前时间\n",
    "\n",
    "t = time.ctime()\n",
    "print(type(t))\n",
    "print(t)"
   ]
  },
  {
   "cell_type": "code",
   "execution_count": 8,
   "metadata": {},
   "outputs": [
    {
     "name": "stdout",
     "output_type": "stream",
     "text": [
      "<class 'float'>\n",
      "1542789903.0\n"
     ]
    }
   ],
   "source": [
    "#mktime()使用时间元组获取对应的时间\n",
    "#格式：time.mktime(时间元组)\n",
    "\n",
    "t =time.localtime()\n",
    "tt = time.mktime(t)\n",
    "print(type(tt))\n",
    "print(tt)"
   ]
  },
  {
   "cell_type": "code",
   "execution_count": 14,
   "metadata": {},
   "outputs": [
    {
     "name": "stdout",
     "output_type": "stream",
     "text": [
      "47.69672896716651\n",
      "3.0003992215180375\n"
     ]
    }
   ],
   "source": [
    "# clock:获取当前CPU的时间，3.0-3.3版本是可以直接用的，我使用的版本不适合\n",
    "def p():\n",
    "    time.sleep(2)\n",
    "    \n",
    "t0 = time.clock()\n",
    "print(t0)\n",
    "time.sleep(3)\n",
    "t1 = time.clock()\n",
    "\n",
    "print(t1 - t0)"
   ]
  },
  {
   "cell_type": "code",
   "execution_count": 11,
   "metadata": {},
   "outputs": [
    {
     "name": "stdout",
     "output_type": "stream",
     "text": [
      "0\n",
      "1\n",
      "2\n",
      "3\n",
      "4\n",
      "5\n",
      "6\n",
      "7\n",
      "8\n",
      "9\n"
     ]
    }
   ],
   "source": [
    "# sleep:是程序进入休眠，n秒后继续\n",
    "\n",
    "for i in range(10):\n",
    "    time.sleep(1)\n",
    "    print(i)"
   ]
  },
  {
   "cell_type": "code",
   "execution_count": null,
   "metadata": {},
   "outputs": [],
   "source": [
    "#strftime:将时间转化为自定义的字符串格式\n",
    "'''\n",
    "%y 两位数的年份表示（00-99）\n",
    "%Y 四位数的年份表示（000-9999）\n",
    "%m 月份（01-12）\n",
    "%d 月内中的一天（0-31）\n",
    "%H 24小时制小时数（0-23）\n",
    "%I 12小时制小时数（01-12）\n",
    "%M 分钟数（00=59）\n",
    "%S 秒（00-59）\n",
    "%a 本地简化星期名称\n",
    "%A 本地完整星期名称\n",
    "%b 本地简化的月份名称\n",
    "%B 本地完整的月份名称\n",
    "%c 本地相应的日期表示和时间表示\n",
    "%j 年内的一天（001-366）\n",
    "%p 本地A.M.或P.M.的等价符\n",
    "%U 一年中的星期数（00-53）星期天为星期的开始\n",
    "%w 星期（0-6），星期天为星期的开始\n",
    "%W 一年中的星期数（00-53）星期一为星期的开始\n",
    "%x 本地相应的日期表示\n",
    "%X 本地相应的时间表示\n",
    "%Z 当前时区的名称\n",
    "%% %号本身\n",
    "'''"
   ]
  },
  {
   "cell_type": "code",
   "execution_count": 4,
   "metadata": {},
   "outputs": [
    {
     "name": "stdout",
     "output_type": "stream",
     "text": [
      "2018 nian 11 27 13:34\n"
     ]
    }
   ],
   "source": [
    "#把时间表示成：2018年11月11日 17:30\n",
    "\n",
    "#这个地方的nian本意是中文的‘年’，但是在中文情况下，会报错\n",
    "import time\n",
    "\n",
    "t = time.localtime()\n",
    "#ft = time.strftime(\"%Y{y}%m{m}%d{d}%H:%M\".format(y='年',m='月',d='日'),t)\n",
    "ft = time.strftime(\"%Y nian %m %d %H:%M\",t)\n",
    "#print(time.strftime(\"%Y{y}%m{m}%d{d}%H:%M\".format(y='年',m='月',d='日')))\n",
    "print(ft)"
   ]
  },
  {
   "cell_type": "code",
   "execution_count": 6,
   "metadata": {},
   "outputs": [],
   "source": [
    "#datetime 导入\n",
    "import datetime"
   ]
  },
  {
   "cell_type": "code",
   "execution_count": 7,
   "metadata": {},
   "outputs": [
    {
     "name": "stdout",
     "output_type": "stream",
     "text": [
      "2018-11-27\n",
      "2018\n",
      "11\n",
      "27\n"
     ]
    }
   ],
   "source": [
    "#datetime\n",
    "\n",
    "dt = datetime.date(2018, 11 ,27)\n",
    "print(dt)\n",
    "print(dt.year)\n",
    "print(dt.month)\n",
    "print(dt.day)"
   ]
  },
  {
   "cell_type": "code",
   "execution_count": 9,
   "metadata": {},
   "outputs": [
    {
     "name": "stdout",
     "output_type": "stream",
     "text": [
      "2018-11-27 13:39:49.813529\n",
      "2018-11-27 13:39:49.813529\n",
      "2018-11-27 13:39:49.814029\n"
     ]
    }
   ],
   "source": [
    "#datetime.datetime\n",
    "\n",
    "from datetime import datetime\n",
    "#常用方法：\n",
    "#today：\n",
    "#now:\n",
    "#utcnow:\n",
    "#fromtimestamp:从时间戳中返回本地时间\n",
    "dt = datetime(201 ,11 ,27)\n",
    "print(dt.today())\n",
    "print(dt.now())\n",
    "\n",
    "print(dt.fromtimestamp(time.time()))"
   ]
  },
  {
   "cell_type": "code",
   "execution_count": 12,
   "metadata": {},
   "outputs": [
    {
     "name": "stdout",
     "output_type": "stream",
     "text": [
      "2018-11-27 13:46:11.455915\n",
      "2018-11-27 13:46:11\n",
      "2018-11-27 14:46:11\n"
     ]
    }
   ],
   "source": [
    "#datetime.timedelta:表示一个时间间隔\n",
    "\n",
    "from datetime import datetime,timedelta\n",
    "\n",
    "t1 = datetime.now()\n",
    "print(t1)\n",
    "print(t1.strftime('%Y-%m-%d %H:%M:%S'))\n",
    "\n",
    "#td表示以小时为单位的时间长度\n",
    "td = timedelta(hours=1)\n",
    "#当前时间加上一个时间间隔，然后格式化输出\n",
    "print((t1+td).strftime('%Y-%m-%d %H:%M:%S'))"
   ]
  },
  {
   "cell_type": "code",
   "execution_count": 13,
   "metadata": {},
   "outputs": [
    {
     "name": "stdout",
     "output_type": "stream",
     "text": [
      "2.000739097595215\n"
     ]
    }
   ],
   "source": [
    "#timeit:时间测量工具\n",
    "\n",
    "#测量程序运行的时间间隔\n",
    "def p():\n",
    "    time.sleep(2)\n",
    "    \n",
    "t1 = time.time()\n",
    "p()\n",
    "print(time.time()-t1)"
   ]
  },
  {
   "cell_type": "code",
   "execution_count": 25,
   "metadata": {},
   "outputs": [
    {
     "name": "stdout",
     "output_type": "stream",
     "text": [
      "4.862437396013942\n",
      "13.145642238769152\n"
     ]
    }
   ],
   "source": [
    "#生成列表的两种方法的比较\n",
    "#如果单纯的比较生成列表的时间，可能很难实现\n",
    "import timeit\n",
    "\n",
    "C = '''\n",
    "sum = []\n",
    "for i in range(1000):\n",
    "    sum.append(i)\n",
    "'''\n",
    "\n",
    "#利用timeit调用代码，执行100000次，查看运行时间\n",
    "t1 = timeit.timeit(stmt='[i for i in range(1000)]',number=100000)\n",
    "#测量代码c执行100000次运行的结果时间\n",
    "t2 = timeit.timeit(stmt= C,number=100000)\n",
    "#下面的打印结果是这两种列表的生成时间\n",
    "print(t1)\n",
    "print(t2)"
   ]
  },
  {
   "cell_type": "code",
   "execution_count": 26,
   "metadata": {},
   "outputs": [
    {
     "name": "stdout",
     "output_type": "stream",
     "text": [
      "Help on function timeit in module timeit:\n",
      "\n",
      "timeit(stmt='pass', setup='pass', timer=<built-in function perf_counter>, number=1000000, globals=None)\n",
      "    Convenience function to create Timer object and call timeit method.\n",
      "\n"
     ]
    }
   ],
   "source": [
    "help(timeit.timeit)"
   ]
  },
  {
   "cell_type": "code",
   "execution_count": 2,
   "metadata": {},
   "outputs": [
    {
     "name": "stdout",
     "output_type": "stream",
     "text": [
      "重复执行0\n",
      "重复执行1\n",
      "重复执行2\n",
      "重复执行0\n",
      "重复执行1\n",
      "重复执行2\n",
      "重复执行0\n",
      "重复执行1\n",
      "重复执行2\n",
      "重复执行0\n",
      "重复执行1\n",
      "重复执行2\n",
      "重复执行0\n",
      "重复执行1\n",
      "重复执行2\n",
      "重复执行0\n",
      "重复执行1\n",
      "重复执行2\n",
      "重复执行0\n",
      "重复执行1\n",
      "重复执行2\n",
      "重复执行0\n",
      "重复执行1\n",
      "重复执行2\n",
      "重复执行0\n",
      "重复执行1\n",
      "重复执行2\n",
      "重复执行0\n",
      "重复执行1\n",
      "重复执行2\n",
      "0.0013342775913210375\n"
     ]
    }
   ],
   "source": [
    "import timeit\n",
    "def doIt():\n",
    "    num = 3\n",
    "    for i in range(num):\n",
    "        print('重复执行{0}'.format(i))\n",
    "        \n",
    "#重复执行函数，\n",
    "t = timeit.timeit(stmt=doIt,number=10)\n",
    "print(t)"
   ]
  },
  {
   "cell_type": "code",
   "execution_count": 5,
   "metadata": {},
   "outputs": [
    {
     "name": "stdout",
     "output_type": "stream",
     "text": [
      "重复执行0\n",
      "重复执行1\n",
      "重复执行2\n",
      "重复执行0\n",
      "重复执行1\n",
      "重复执行2\n",
      "重复执行0\n",
      "重复执行1\n",
      "重复执行2\n",
      "重复执行0\n",
      "重复执行1\n",
      "重复执行2\n",
      "重复执行0\n",
      "重复执行1\n",
      "重复执行2\n",
      "重复执行0\n",
      "重复执行1\n",
      "重复执行2\n",
      "重复执行0\n",
      "重复执行1\n",
      "重复执行2\n",
      "重复执行0\n",
      "重复执行1\n",
      "重复执行2\n",
      "重复执行0\n",
      "重复执行1\n",
      "重复执行2\n",
      "重复执行0\n",
      "重复执行1\n",
      "重复执行2\n",
      "0.0008759514690837022\n"
     ]
    }
   ],
   "source": [
    "s = '''\n",
    "def doIt2(num):\n",
    "    num = 3\n",
    "    for i in range(num):\n",
    "        print('重复执行{0}'.format(i))\n",
    "'''\n",
    "\n",
    "#执行doIt（num）\n",
    "#setup是用于设置环境变量的,如果没有setup=s6=+'num=3',我们会发现在此时doIt是没有初始化的数据的，\n",
    "t = timeit.timeit('doIt2(num)' , setup = s+'num=3',number=10)\n",
    "print(t)"
   ]
  },
  {
   "cell_type": "code",
   "execution_count": null,
   "metadata": {},
   "outputs": [],
   "source": []
  },
  {
   "cell_type": "code",
   "execution_count": null,
   "metadata": {},
   "outputs": [],
   "source": []
  },
  {
   "cell_type": "code",
   "execution_count": null,
   "metadata": {},
   "outputs": [],
   "source": []
  }
 ],
 "metadata": {
  "kernelspec": {
   "display_name": "Python 3",
   "language": "python",
   "name": "python3"
  },
  "language_info": {
   "codemirror_mode": {
    "name": "ipython",
    "version": 3
   },
   "file_extension": ".py",
   "mimetype": "text/x-python",
   "name": "python",
   "nbconvert_exporter": "python",
   "pygments_lexer": "ipython3",
   "version": "3.6.5"
  }
 },
 "nbformat": 4,
 "nbformat_minor": 2
}
