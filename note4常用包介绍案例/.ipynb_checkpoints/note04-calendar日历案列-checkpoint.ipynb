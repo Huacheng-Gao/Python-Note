{
 "cells": [
  {
   "cell_type": "code",
   "execution_count": 3,
   "metadata": {},
   "outputs": [],
   "source": [
    "#使用先导入\n",
    "import calendar"
   ]
  },
  {
   "cell_type": "code",
   "execution_count": 5,
   "metadata": {},
   "outputs": [
    {
     "name": "stdout",
     "output_type": "stream",
     "text": [
      "<class 'str'>\n",
      "                                  2017\n",
      "\n",
      "      January                   February                   March\n",
      "Mo Tu We Th Fr Sa Su      Mo Tu We Th Fr Sa Su      Mo Tu We Th Fr Sa Su\n",
      "                   1             1  2  3  4  5             1  2  3  4  5\n",
      " 2  3  4  5  6  7  8       6  7  8  9 10 11 12       6  7  8  9 10 11 12\n",
      " 9 10 11 12 13 14 15      13 14 15 16 17 18 19      13 14 15 16 17 18 19\n",
      "16 17 18 19 20 21 22      20 21 22 23 24 25 26      20 21 22 23 24 25 26\n",
      "23 24 25 26 27 28 29      27 28                     27 28 29 30 31\n",
      "30 31\n",
      "\n",
      "       April                      May                       June\n",
      "Mo Tu We Th Fr Sa Su      Mo Tu We Th Fr Sa Su      Mo Tu We Th Fr Sa Su\n",
      "                1  2       1  2  3  4  5  6  7                1  2  3  4\n",
      " 3  4  5  6  7  8  9       8  9 10 11 12 13 14       5  6  7  8  9 10 11\n",
      "10 11 12 13 14 15 16      15 16 17 18 19 20 21      12 13 14 15 16 17 18\n",
      "17 18 19 20 21 22 23      22 23 24 25 26 27 28      19 20 21 22 23 24 25\n",
      "24 25 26 27 28 29 30      29 30 31                  26 27 28 29 30\n",
      "\n",
      "        July                     August                  September\n",
      "Mo Tu We Th Fr Sa Su      Mo Tu We Th Fr Sa Su      Mo Tu We Th Fr Sa Su\n",
      "                1  2          1  2  3  4  5  6                   1  2  3\n",
      " 3  4  5  6  7  8  9       7  8  9 10 11 12 13       4  5  6  7  8  9 10\n",
      "10 11 12 13 14 15 16      14 15 16 17 18 19 20      11 12 13 14 15 16 17\n",
      "17 18 19 20 21 22 23      21 22 23 24 25 26 27      18 19 20 21 22 23 24\n",
      "24 25 26 27 28 29 30      28 29 30 31               25 26 27 28 29 30\n",
      "31\n",
      "\n",
      "      October                   November                  December\n",
      "Mo Tu We Th Fr Sa Su      Mo Tu We Th Fr Sa Su      Mo Tu We Th Fr Sa Su\n",
      "                   1             1  2  3  4  5                   1  2  3\n",
      " 2  3  4  5  6  7  8       6  7  8  9 10 11 12       4  5  6  7  8  9 10\n",
      " 9 10 11 12 13 14 15      13 14 15 16 17 18 19      11 12 13 14 15 16 17\n",
      "16 17 18 19 20 21 22      20 21 22 23 24 25 26      18 19 20 21 22 23 24\n",
      "23 24 25 26 27 28 29      27 28 29 30               25 26 27 28 29 30 31\n",
      "30 31\n",
      "\n"
     ]
    }
   ],
   "source": [
    "#calendar:获取一年的日历字符串\n",
    "#参数：\n",
    "# w = 每个日期之间的间隔字符\n",
    "# l = 每周所占用的行数\n",
    "# c = 每个月的间隔字符数\n",
    "\n",
    "cal = calendar.calendar(2017)\n",
    "print(type(cal))\n",
    "print(cal)\n"
   ]
  },
  {
   "cell_type": "code",
   "execution_count": 9,
   "metadata": {},
   "outputs": [
    {
     "name": "stdout",
     "output_type": "stream",
     "text": [
      "                                           2017\n",
      "\n",
      "      January                            February                            March\n",
      "Mo Tu We Th Fr Sa Su               Mo Tu We Th Fr Sa Su               Mo Tu We Th Fr Sa Su\n",
      "                   1                      1  2  3  4  5                      1  2  3  4  5\n",
      " 2  3  4  5  6  7  8                6  7  8  9 10 11 12                6  7  8  9 10 11 12\n",
      " 9 10 11 12 13 14 15               13 14 15 16 17 18 19               13 14 15 16 17 18 19\n",
      "16 17 18 19 20 21 22               20 21 22 23 24 25 26               20 21 22 23 24 25 26\n",
      "23 24 25 26 27 28 29               27 28                              27 28 29 30 31\n",
      "30 31\n",
      "\n",
      "       April                               May                                June\n",
      "Mo Tu We Th Fr Sa Su               Mo Tu We Th Fr Sa Su               Mo Tu We Th Fr Sa Su\n",
      "                1  2                1  2  3  4  5  6  7                         1  2  3  4\n",
      " 3  4  5  6  7  8  9                8  9 10 11 12 13 14                5  6  7  8  9 10 11\n",
      "10 11 12 13 14 15 16               15 16 17 18 19 20 21               12 13 14 15 16 17 18\n",
      "17 18 19 20 21 22 23               22 23 24 25 26 27 28               19 20 21 22 23 24 25\n",
      "24 25 26 27 28 29 30               29 30 31                           26 27 28 29 30\n",
      "\n",
      "        July                              August                           September\n",
      "Mo Tu We Th Fr Sa Su               Mo Tu We Th Fr Sa Su               Mo Tu We Th Fr Sa Su\n",
      "                1  2                   1  2  3  4  5  6                            1  2  3\n",
      " 3  4  5  6  7  8  9                7  8  9 10 11 12 13                4  5  6  7  8  9 10\n",
      "10 11 12 13 14 15 16               14 15 16 17 18 19 20               11 12 13 14 15 16 17\n",
      "17 18 19 20 21 22 23               21 22 23 24 25 26 27               18 19 20 21 22 23 24\n",
      "24 25 26 27 28 29 30               28 29 30 31                        25 26 27 28 29 30\n",
      "31\n",
      "\n",
      "      October                            November                           December\n",
      "Mo Tu We Th Fr Sa Su               Mo Tu We Th Fr Sa Su               Mo Tu We Th Fr Sa Su\n",
      "                   1                      1  2  3  4  5                            1  2  3\n",
      " 2  3  4  5  6  7  8                6  7  8  9 10 11 12                4  5  6  7  8  9 10\n",
      " 9 10 11 12 13 14 15               13 14 15 16 17 18 19               11 12 13 14 15 16 17\n",
      "16 17 18 19 20 21 22               20 21 22 23 24 25 26               18 19 20 21 22 23 24\n",
      "23 24 25 26 27 28 29               27 28 29 30                        25 26 27 28 29 30 31\n",
      "30 31\n",
      "\n"
     ]
    }
   ],
   "source": [
    "cal = calendar.calendar(2017 , l = 0 , c = 15)\n",
    "print(cal)"
   ]
  },
  {
   "cell_type": "code",
   "execution_count": 10,
   "metadata": {},
   "outputs": [
    {
     "data": {
      "text/plain": [
       "True"
      ]
     },
     "execution_count": 10,
     "metadata": {},
     "output_type": "execute_result"
    }
   ],
   "source": [
    "# isleap:判断某一年是否为闰年\n",
    "#is-开头的关键字一般都是判读语句，结果一般是布尔值\n",
    "calendar.isleap(2020)"
   ]
  },
  {
   "cell_type": "code",
   "execution_count": 12,
   "metadata": {},
   "outputs": [
    {
     "data": {
      "text/plain": [
       "5"
      ]
     },
     "execution_count": 12,
     "metadata": {},
     "output_type": "execute_result"
    }
   ],
   "source": [
    "#leapdays:获取指定年份之间的闰年的个数\n",
    "calendar.leapdays(2000,2020)"
   ]
  },
  {
   "cell_type": "code",
   "execution_count": 13,
   "metadata": {},
   "outputs": [
    {
     "name": "stdout",
     "output_type": "stream",
     "text": [
      "Help on function leapdays in module calendar:\n",
      "\n",
      "leapdays(y1, y2)\n",
      "    Return number of leap years in range [y1, y2).\n",
      "    Assume y1 <= y2.\n",
      "\n"
     ]
    }
   ],
   "source": [
    "help(calendar.leapdays)"
   ]
  },
  {
   "cell_type": "code",
   "execution_count": 15,
   "metadata": {},
   "outputs": [
    {
     "data": {
      "text/plain": [
       "-1"
      ]
     },
     "execution_count": 15,
     "metadata": {},
     "output_type": "execute_result"
    }
   ],
   "source": [
    "calendar.leapdays(2001,1999)"
   ]
  },
  {
   "cell_type": "code",
   "execution_count": 18,
   "metadata": {},
   "outputs": [
    {
     "name": "stdout",
     "output_type": "stream",
     "text": [
      "   November 2018\n",
      "Mo Tu We Th Fr Sa Su\n",
      "          1  2  3  4\n",
      " 5  6  7  8  9 10 11\n",
      "12 13 14 15 16 17 18\n",
      "19 20 21 22 23 24 25\n",
      "26 27 28 29 30\n",
      "\n"
     ]
    }
   ],
   "source": [
    "#month()获取某个月的日历内容\n",
    "#格式：calendar.month(年，月)\n",
    "#返回值：日历内容\n",
    "\n",
    "\n",
    "m3 = calendar.month(2018,11)\n",
    "print(m3)"
   ]
  },
  {
   "cell_type": "code",
   "execution_count": 23,
   "metadata": {},
   "outputs": [
    {
     "name": "stdout",
     "output_type": "stream",
     "text": [
      "Help on function monthrange in module calendar:\n",
      "\n",
      "monthrange(year, month)\n",
      "    Return weekday (0-6 ~ Mon-Sun) and number of days (28-31) for\n",
      "    year, month.\n",
      "\n",
      "(3, 30)\n",
      "3\n",
      "30\n"
     ]
    }
   ],
   "source": [
    "#monthrange()获取一个月的周几开始和天数\n",
    "#格式：calendar.monthrange(年，月)\n",
    "#返回值：元组（周几开始，总天数）\n",
    "#注意：一周默认0-6表示礼拜一到礼拜天\n",
    "help(calendar.monthrange)\n",
    "\n",
    "t = calendar.monthrange(2018,11)\n",
    "print(t)\n",
    "\n",
    "n,y = calendar.monthrange(2018,11)\n",
    "print(n)\n",
    "print(y)"
   ]
  },
  {
   "cell_type": "code",
   "execution_count": 24,
   "metadata": {},
   "outputs": [
    {
     "name": "stdout",
     "output_type": "stream",
     "text": [
      "<class 'list'>\n",
      "[[0, 0, 0, 1, 2, 3, 4], [5, 6, 7, 8, 9, 10, 11], [12, 13, 14, 15, 16, 17, 18], [19, 20, 21, 22, 23, 24, 25], [26, 27, 28, 29, 30, 0, 0]]\n"
     ]
    }
   ],
   "source": [
    "#monthcalendar()返回一个月每星期的矩阵列表\n",
    "#格式:calendar.monthcalendar(年，月)\n",
    "#注意：二级列表\n",
    "\n",
    "m = calendar.monthcalendar(2018,11)\n",
    "print(type(m))\n",
    "print(m)"
   ]
  },
  {
   "cell_type": "code",
   "execution_count": 26,
   "metadata": {},
   "outputs": [
    {
     "name": "stdout",
     "output_type": "stream",
     "text": [
      "Help on method pryear in module calendar:\n",
      "\n",
      "pryear(theyear, w=0, l=0, c=6, m=3) method of calendar.TextCalendar instance\n",
      "    Print a year's calendar.\n",
      "\n",
      "                                  2018\n",
      "\n",
      "      January                   February                   March\n",
      "Mo Tu We Th Fr Sa Su      Mo Tu We Th Fr Sa Su      Mo Tu We Th Fr Sa Su\n",
      " 1  2  3  4  5  6  7                1  2  3  4                1  2  3  4\n",
      " 8  9 10 11 12 13 14       5  6  7  8  9 10 11       5  6  7  8  9 10 11\n",
      "15 16 17 18 19 20 21      12 13 14 15 16 17 18      12 13 14 15 16 17 18\n",
      "22 23 24 25 26 27 28      19 20 21 22 23 24 25      19 20 21 22 23 24 25\n",
      "29 30 31                  26 27 28                  26 27 28 29 30 31\n",
      "\n",
      "       April                      May                       June\n",
      "Mo Tu We Th Fr Sa Su      Mo Tu We Th Fr Sa Su      Mo Tu We Th Fr Sa Su\n",
      "                   1          1  2  3  4  5  6                   1  2  3\n",
      " 2  3  4  5  6  7  8       7  8  9 10 11 12 13       4  5  6  7  8  9 10\n",
      " 9 10 11 12 13 14 15      14 15 16 17 18 19 20      11 12 13 14 15 16 17\n",
      "16 17 18 19 20 21 22      21 22 23 24 25 26 27      18 19 20 21 22 23 24\n",
      "23 24 25 26 27 28 29      28 29 30 31               25 26 27 28 29 30\n",
      "30\n",
      "\n",
      "        July                     August                  September\n",
      "Mo Tu We Th Fr Sa Su      Mo Tu We Th Fr Sa Su      Mo Tu We Th Fr Sa Su\n",
      "                   1             1  2  3  4  5                      1  2\n",
      " 2  3  4  5  6  7  8       6  7  8  9 10 11 12       3  4  5  6  7  8  9\n",
      " 9 10 11 12 13 14 15      13 14 15 16 17 18 19      10 11 12 13 14 15 16\n",
      "16 17 18 19 20 21 22      20 21 22 23 24 25 26      17 18 19 20 21 22 23\n",
      "23 24 25 26 27 28 29      27 28 29 30 31            24 25 26 27 28 29 30\n",
      "30 31\n",
      "\n",
      "      October                   November                  December\n",
      "Mo Tu We Th Fr Sa Su      Mo Tu We Th Fr Sa Su      Mo Tu We Th Fr Sa Su\n",
      " 1  2  3  4  5  6  7                1  2  3  4                      1  2\n",
      " 8  9 10 11 12 13 14       5  6  7  8  9 10 11       3  4  5  6  7  8  9\n",
      "15 16 17 18 19 20 21      12 13 14 15 16 17 18      10 11 12 13 14 15 16\n",
      "22 23 24 25 26 27 28      19 20 21 22 23 24 25      17 18 19 20 21 22 23\n",
      "29 30 31                  26 27 28 29 30            24 25 26 27 28 29 30\n",
      "                                                    31\n",
      "\n",
      "   November 2018\n",
      "Mo Tu We Th Fr Sa Su\n",
      "          1  2  3  4\n",
      " 5  6  7  8  9 10 11\n",
      "12 13 14 15 16 17 18\n",
      "19 20 21 22 23 24 25\n",
      "26 27 28 29 30\n"
     ]
    },
    {
     "data": {
      "text/plain": [
       "6"
      ]
     },
     "execution_count": 26,
     "metadata": {},
     "output_type": "execute_result"
    }
   ],
   "source": [
    "#prcal:print calendar 直接打印日历\n",
    "#prmonth打印月\n",
    "#weekday()获取今天周几\n",
    "help(calendar.prcal)\n",
    "calendar.prcal(2018)\n",
    "calendar.prmonth(2018,11)\n",
    "calendar.weekday(2018,11,11)"
   ]
  },
  {
   "cell_type": "code",
   "execution_count": null,
   "metadata": {},
   "outputs": [],
   "source": []
  }
 ],
 "metadata": {
  "kernelspec": {
   "display_name": "Python 3",
   "language": "python",
   "name": "python3"
  },
  "language_info": {
   "codemirror_mode": {
    "name": "ipython",
    "version": 3
   },
   "file_extension": ".py",
   "mimetype": "text/x-python",
   "name": "python",
   "nbconvert_exporter": "python",
   "pygments_lexer": "ipython3",
   "version": "3.6.5"
  }
 },
 "nbformat": 4,
 "nbformat_minor": 2
}
