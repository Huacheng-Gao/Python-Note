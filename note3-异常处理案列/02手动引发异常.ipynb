{
 "cells": [
  {
   "cell_type": "code",
   "execution_count": 11,
   "metadata": {},
   "outputs": [
    {
     "name": "stdout",
     "output_type": "stream",
     "text": [
      "我爱高圆圆\n",
      "3.1415926\n",
      "ValueError\n",
      "反正我都是要被执行的，\n"
     ]
    }
   ],
   "source": [
    "#raise案例\n",
    "\n",
    "try:\n",
    "    print('我爱高圆圆')\n",
    "    print(3.1415926)\n",
    "    \n",
    "    #手动引发一个日常\n",
    "    #raise注意语法：raise ErrorClassName\n",
    "    \n",
    "    raise ValueError  #执行这句话以后就直接跳到ValueError语句了，不执行下面的语句了\n",
    "    print('又出错了，不过是我自己搞的，')\n",
    "        \n",
    "except NameError as e:\n",
    "    print('NameError')\n",
    "except ValueError as e:\n",
    "    print('ValueError')\n",
    "except Exception as e:\n",
    "    print('有异常')\n",
    "finally:\n",
    "    print('反正我都是要被执行的，')"
   ]
  },
  {
   "cell_type": "code",
   "execution_count": 13,
   "metadata": {},
   "outputs": [
    {
     "name": "stdout",
     "output_type": "stream",
     "text": [
      "我爱高圆圆\n",
      "3.1415926\n",
      "gaohcError\n",
      "反正我都是要被执行的，\n"
     ]
    }
   ],
   "source": [
    "#raise案例\n",
    "#自定义异常，可以有一些自己起的名称之类的\n",
    "#但是要注意:自定义异常必须是系统异常的子类\n",
    "\n",
    "class gaohcError(ValueError):#gaohcError是继承自系统的ValueError的\n",
    "\n",
    "    pass\n",
    "\n",
    "try:\n",
    "    print('我爱高圆圆')\n",
    "    print(3.1415926)\n",
    "    \n",
    "    #手动引发一个日常\n",
    "    #raise注意语法：raise ErrorClassName\n",
    "    \n",
    "    raise gaohcError  #执行这句话以后就直接跳到ValueError语句了，不执行下面的语句了\n",
    "    print('又出错了，不过是我自己搞的，')\n",
    "        \n",
    "except NameError as e:\n",
    "    print('NameError')\n",
    "except gaohcError as e:#子类在前，父类在后，如果没有这个gaohcError,则错误会被ValueError 捕获\n",
    "    print('gaohcError')\n",
    "except ValueError as e:\n",
    "    print('ValueError')\n",
    "except Exception as e:\n",
    "    print('有异常')\n",
    "finally:\n",
    "    print('反正我都是要被执行的，')"
   ]
  },
  {
   "cell_type": "code",
   "execution_count": null,
   "metadata": {},
   "outputs": [],
   "source": []
  },
  {
   "cell_type": "code",
   "execution_count": null,
   "metadata": {},
   "outputs": [],
   "source": []
  },
  {
   "cell_type": "code",
   "execution_count": null,
   "metadata": {},
   "outputs": [],
   "source": []
  }
 ],
 "metadata": {
  "kernelspec": {
   "display_name": "Python 3",
   "language": "python",
   "name": "python3"
  },
  "language_info": {
   "codemirror_mode": {
    "name": "ipython",
    "version": 3
   },
   "file_extension": ".py",
   "mimetype": "text/x-python",
   "name": "python",
   "nbconvert_exporter": "python",
   "pygments_lexer": "ipython3",
   "version": "3.6.5"
  }
 },
 "nbformat": 4,
 "nbformat_minor": 2
}
