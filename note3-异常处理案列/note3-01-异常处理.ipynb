{
 "cells": [
  {
   "cell_type": "code",
   "execution_count": 1,
   "metadata": {},
   "outputs": [
    {
     "name": "stdout",
     "output_type": "stream",
     "text": [
      "请输入一个数字：2\n",
      "计算的结构是：50.0\n"
     ]
    }
   ],
   "source": [
    "#简单异常案例\n",
    "#所有的异常都是从一个error类中继承下来的\n",
    "try:\n",
    "    num = int(input('请输入一个数字：'))\n",
    "    div = 100/num\n",
    "    print('计算的结构是：{0}'.format(div))\n",
    "    \n",
    "except:\n",
    "    print('出错了哦，要认真写')\n",
    "    \n",
    "    exit() #退出命令\n",
    "    "
   ]
  },
  {
   "cell_type": "code",
   "execution_count": 2,
   "metadata": {},
   "outputs": [
    {
     "name": "stdout",
     "output_type": "stream",
     "text": [
      "请输入一个数字：0\n",
      "出错了哦，要认真写\n",
      "division by zero\n"
     ]
    }
   ],
   "source": [
    "#简单异常案例\n",
    "\n",
    "#给出简单的提示\n",
    "try:\n",
    "    num = int(input('请输入一个数字：'))\n",
    "    div = 100/num\n",
    "    print('计算的结构是：{0}'.format(div))\n",
    "\n",
    "\n",
    "#捕捉一个异常后，把异常实例化，出现信息会在实例化中\n",
    "\n",
    "#注意下面写法\n",
    "\n",
    "#以下语句是捕获一个异常并且实例化了\n",
    "except ZeroDivisionError as e:\n",
    "    print('出错了哦，要认真写')\n",
    "    print(e)\n",
    "    \n",
    "    exit() #退出命令\n",
    "    "
   ]
  },
  {
   "cell_type": "code",
   "execution_count": 2,
   "metadata": {},
   "outputs": [
    {
     "name": "stdout",
     "output_type": "stream",
     "text": [
      "请输入一个数字：23\n",
      "名字起错了\n",
      "name 'prit' is not defined\n",
      "测试执行块区\n"
     ]
    }
   ],
   "source": [
    "#简单异常案例\n",
    "\n",
    "#给出简单的提示\n",
    "try:\n",
    "    num = int(input('请输入一个数字：'))\n",
    "    div = 100/num\n",
    "    print('计算的结构是：{0}'.format(div))\n",
    "\n",
    "\n",
    "#捕捉一个异常后，把异常实例化，出现信息会在实例化中\n",
    "\n",
    "#注意下面写法\n",
    "\n",
    "#以下语句是捕获一个异常并且实例化了,即可以输入呢\n",
    "#如果是多种ERROR的情况下，需要把越具体的错误越往前放\n",
    "#在异常类的继承中，越是子类的异常越要往前放\n",
    "#越是父类的异常越要往后放\n",
    "\n",
    "#在处理异常是，一旦拦截到某一个异常，则不再 继续向下，直接报错了\n",
    "#代码，既有finally在则执行finally语句块，否则执行下一个大语句块\n",
    "except ZeroDivisionError as e:   #\n",
    "    print('输入0？能做除数吗？出错了哦，要认真写')\n",
    "    print(e)\n",
    "    \n",
    "    exit() #退出命令\n",
    "    \n",
    "except NameError as e:      #将try里面的print输错的情况下，报这个错\n",
    "    print('名字起错了')\n",
    "    print(e)\n",
    "    \n",
    "    exit()\n",
    "    \n",
    "except AttritubeError as e:  \n",
    "    print('属性有问题了')\n",
    "    print(e)\n",
    "    exit()\n",
    "    \n",
    "    \n",
    "#所有的异常都是继承自Exception的子类\n",
    "#建议测试的时候都加上这句话\n",
    "\n",
    "#即下面的这个异常拦截是最后一道拦阻网。可以拦截一切异常\n",
    "except Exception as e:\n",
    "    print('我也不知道哪里错了')\n",
    "    print(e)\n",
    "    exit()\n",
    "    \n",
    "print('测试执行块区')"
   ]
  },
  {
   "cell_type": "code",
   "execution_count": 1,
   "metadata": {},
   "outputs": [
    {
     "name": "stdout",
     "output_type": "stream",
     "text": [
      "请输入一个数:2\n",
      "计算的结果是：50.0\n",
      "No Exception\n",
      "反正这个是必须要执行的\n"
     ]
    }
   ],
   "source": [
    "#else语句案列\n",
    "\n",
    "try:\n",
    "    num = int(input('请输入一个数:'))\n",
    "    div = 100/num\n",
    "    print('计算的结果是：{0}'.format(div))\n",
    "except Exception as e:\n",
    "    print('Exception')\n",
    "    \n",
    "else:\n",
    "    print('No Exception')\n",
    "\n",
    "finally:\n",
    "    print('反正这个是必须要执行的')"
   ]
  },
  {
   "cell_type": "code",
   "execution_count": null,
   "metadata": {},
   "outputs": [],
   "source": [
    "#关于自定义的异常"
   ]
  }
 ],
 "metadata": {
  "kernelspec": {
   "display_name": "Python 3",
   "language": "python",
   "name": "python3"
  },
  "language_info": {
   "codemirror_mode": {
    "name": "ipython",
    "version": 3
   },
   "file_extension": ".py",
   "mimetype": "text/x-python",
   "name": "python",
   "nbconvert_exporter": "python",
   "pygments_lexer": "ipython3",
   "version": "3.6.5"
  }
 },
 "nbformat": 4,
 "nbformat_minor": 2
}
